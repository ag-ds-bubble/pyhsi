{
 "cells": [
  {
   "cell_type": "markdown",
   "metadata": {
    "heading_collapsed": true
   },
   "source": [
    "# Understanding Problem Statement"
   ]
  },
  {
   "cell_type": "markdown",
   "metadata": {
    "hidden": true
   },
   "source": [
    " Your task is to use unsupervised techniques like SVD, NMF, or PCA, KNN,\n",
    "etc. to segment the hyperspectral imagery into classes such as land, water,\n",
    "urban, road etc using band information from all the 242 bands of\n",
    "hyperspectral data. You have to write a code on python.\n",
    "You have to find the optimal number of distinct classes in every tileset /\n",
    "AoI that you select. [(optional) you could scale up the modeling pipeline\n",
    "task by breaking the tileset in windows and use parallel processing\n",
    "technology for the same.]\n",
    "\n",
    "3. Your solution should also have analysis and Html visualizations\n",
    "included. You could use folium or leaflets on python to create an HTML page\n",
    "of the clustering result."
   ]
  },
  {
   "cell_type": "markdown",
   "metadata": {
    "heading_collapsed": true
   },
   "source": [
    "# Imports"
   ]
  },
  {
   "cell_type": "code",
   "execution_count": 1,
   "metadata": {
    "ExecuteTime": {
     "end_time": "2020-08-10T18:40:04.913888Z",
     "start_time": "2020-08-10T18:40:02.380168Z"
    },
    "hidden": true
   },
   "outputs": [],
   "source": [
    "# General\n",
    "import numpy as np\n",
    "import os\n",
    "import inspect\n",
    "import re\n",
    "from typing import Union\n",
    "from tqdm.notebook import tqdm\n",
    "\n",
    "# Data Wrangling\n",
    "from spectral import open_image, imshow\n",
    "import tifffile as tiff\n",
    "import pandas as pd\n",
    "from sklearn.preprocessing import StandardScaler\n",
    "\n",
    "# Visualizations\n",
    "import matplotlib.pyplot as plt\n",
    "from mpl_toolkits.axes_grid1 import ImageGrid\n",
    "%matplotlib inline\n",
    "from spectral.graphics import view_cube\n",
    "import imutils\n",
    "import matplotlib.gridspec as gridspec\n",
    "from matplotlib.patches import Rectangle\n",
    "import folium\n",
    "from mpl_toolkits.mplot3d import Axes3D\n",
    "import matplotlib.cm as cm\n",
    "\n",
    "\n",
    "# Image processing\n",
    "from cv2 import cv2\n",
    "# import rasterio as rst\n",
    "# import rasterio.warp\n",
    "# import rasterio\n",
    "# import rasterio.features\n",
    "import pickle\n",
    "\n",
    "# Dimensionality Reduction Algos\n",
    "from sklearn.decomposition import PCA\n",
    "from sklearn.decomposition import TruncatedSVD\n",
    "from sklearn.decomposition import NMF\n",
    "from sklearn.discriminant_analysis import LinearDiscriminantAnalysis\n",
    "from sklearn.manifold import TSNE\n",
    "\n",
    "\n",
    "# Clustering Algos\n",
    "from sklearn.cluster import KMeans\n",
    "from sklearn.cluster import SpectralClustering\n",
    "from sklearn.mixture import GaussianMixture\n",
    "from sklearn.cluster import AgglomerativeClustering\n",
    "from sklearn.metrics import silhouette_score\n",
    "\n"
   ]
  },
  {
   "cell_type": "markdown",
   "metadata": {
    "heading_collapsed": true
   },
   "source": [
    "# Data Path and Variable Initialisations"
   ]
  },
  {
   "cell_type": "code",
   "execution_count": 2,
   "metadata": {
    "ExecuteTime": {
     "end_time": "2020-08-10T18:40:04.933271Z",
     "start_time": "2020-08-10T18:40:04.914314Z"
    },
    "hidden": true
   },
   "outputs": [],
   "source": [
    "root_path = '../'\n",
    "rawdata_path = root_path+'Raw Data/'\n",
    "prepareddata_path = root_path+'Prepared Data/'\n",
    "\n",
    "tileset1_path = rawdata_path+'EO1H0350252010205110KU/'  # Possibly Vegetation\n",
    "tileset2_path = rawdata_path+'EO1H1430452010208110Kt/'  # Possbly Cloud\n",
    "tileset3_path = rawdata_path+'EO1H1480472016328110PZ/'  # Looks like mountainregion\n",
    "bandinfo_path = rawdata_path+'Hyperion Bands.xlsx'\n",
    "\n",
    "tileset1_img_path = [tileset1_path+k for k in os.listdir(tileset1_path) if '.TIF' in k]\n",
    "tileset2_img_path = [tileset2_path+k for k in os.listdir(tileset2_path) if '.TIF' in k]\n",
    "tileset3_img_path = [tileset3_path+k for k in os.listdir(tileset3_path) if '.TIF' in k]\n",
    "\n",
    "\n",
    "assert len(tileset1_img_path)==242, \"All 242 spectrum images are not present\"\n",
    "assert len(tileset2_img_path)==242, \"All 242 spectrum images are not present\"\n",
    "assert len(tileset3_img_path)==242, \"All 242 spectrum images are not present\"\n"
   ]
  },
  {
   "cell_type": "code",
   "execution_count": null,
   "metadata": {
    "ExecuteTime": {
     "end_time": "2020-08-10T15:18:48.630782Z",
     "start_time": "2020-08-10T15:18:47.339594Z"
    },
    "hidden": true
   },
   "outputs": [],
   "source": [
    "%matplotlib inline\n",
    "plt.rcParams['figure.figsize'] = (25,5)\n",
    "plt.rcParams['figure.dpi'] = 180\n",
    "bandinfo = pd.read_excel(bandinfo_path,index_col=0)\n",
    "plt.plot((bandinfo.Waveno - 572)<0, color='r')\n",
    "plt.plot((bandinfo.Waveno - 540)<0, color='g')\n",
    "plt.plot((bandinfo.Waveno - 430)<0, color='b')\n",
    "_=plt.grid()\n",
    "_=plt.xticks(rotation=90)"
   ]
  },
  {
   "cell_type": "code",
   "execution_count": null,
   "metadata": {
    "ExecuteTime": {
     "end_time": "2020-08-10T09:39:43.947446Z",
     "start_time": "2020-08-10T09:39:43.905594Z"
    },
    "hidden": true
   },
   "outputs": [],
   "source": [
    "bandinfo"
   ]
  },
  {
   "cell_type": "code",
   "execution_count": null,
   "metadata": {
    "ExecuteTime": {
     "end_time": "2020-08-10T07:58:33.013615Z",
     "start_time": "2020-08-10T07:58:33.009625Z"
    },
    "hidden": true
   },
   "outputs": [],
   "source": [
    "rband = 'B033'\n",
    "gband = 'B015'\n",
    "bband = 'B010'"
   ]
  },
  {
   "cell_type": "markdown",
   "metadata": {
    "heading_collapsed": true
   },
   "source": [
    "# Helper Functions"
   ]
  },
  {
   "cell_type": "code",
   "execution_count": 3,
   "metadata": {
    "ExecuteTime": {
     "end_time": "2020-08-10T18:40:06.195953Z",
     "start_time": "2020-08-10T18:40:06.160009Z"
    },
    "code_folding": [
     1,
     4,
     8,
     44,
     51,
     71,
     87,
     114,
     132,
     142,
     178
    ],
    "hidden": true
   },
   "outputs": [
    {
     "name": "stdout",
     "output_type": "stream",
     "text": [
      "Initialising the Helper Function class...\n"
     ]
    }
   ],
   "source": [
    "class HelperFunctions:\n",
    "    def __init__(self):\n",
    "        print('Initialising the Helper Function class...')\n",
    "        \n",
    "    def get_varstr(self,var):\n",
    "        callers_local_vars = inspect.currentframe().f_back.f_locals.items()\n",
    "        return [var_name for var_name, var_val in callers_local_vars if var_val is var]\n",
    "\n",
    "    def imgN_show(self, images:Union[np.ndarray,list], titles:Union[list, str]=[], fsize:tuple=(10,10)):\n",
    "        \"\"\"\n",
    "        Helper function to display N number of images, in a grid\n",
    "        \n",
    "        parameter\n",
    "        --------------------\n",
    "        images : numpy.ndarray (2D, 3D), list\n",
    "            Can accept an image or a list of images.\n",
    "            \n",
    "        titles : Optional\n",
    "            List of titles equivalent to the length of the images send\n",
    "        \"\"\"\n",
    "        if type(images)==np.ndarray and len(images.shape) == 2:\n",
    "            images = [images]\n",
    "        elif type(images)==np.ndarray and len(images.shape) == 3:\n",
    "            images = [images[:,:,k] for k in range(images.shape[-1])] \n",
    "        \n",
    "        if titles == []:\n",
    "            titles = ['Image '+str(k+1) for k in range(len(images))]\n",
    "        _rows = int(np.ceil(len(images)/3))\n",
    "        _cols = len(images) if len(images)<=3 else 3\n",
    "\n",
    "        fig = plt.figure(figsize=fsize, dpi = 100)\n",
    "        grid = ImageGrid(fig, 111, nrows_ncols=(_rows, _cols),axes_pad=0.1)\n",
    "\n",
    "        for _img , _title, _ax in zip(images, titles, grid):\n",
    "            if _img.shape[-1] == 3:\n",
    "                _ax.imshow(imutils.convenience.opencv2matplotlib(_img))\n",
    "            else:\n",
    "                _ax.imshow(_img, cmap='gray')\n",
    "            _ax.set_title(_title)\n",
    "            _ax.axis('off')\n",
    "\n",
    "        for _delax in grid[len(images):]:\n",
    "            fig.delaxes(_delax)\n",
    "\n",
    "    def load_spectral_data(self, imgpath:list, band_identifier:str, ):\n",
    "        \"\"\"\n",
    "        Reads individual images from imgpath, looks for the band \n",
    "        identifier, and then stitches all the bands together \n",
    "        \"\"\"\n",
    "        pass\n",
    "        \n",
    "    def angle_to90(self, img):\n",
    "        imgproc = (img!=0).astype(int)\n",
    "        rows,cols = imgproc.shape\n",
    "        ptA, ptB = (None, None), (None, None)\n",
    "        idx = 0\n",
    "        while ptA == (None, None) and idx < cols:\n",
    "            if sum(imgproc[:,idx])>0:\n",
    "                ptA = (idx, np.argmax(imgproc[:,idx]))\n",
    "                break\n",
    "            idx+=1\n",
    "        idx=0\n",
    "        while ptB == (None, None) and idx < rows:\n",
    "            if sum(imgproc[idx,:])>0:\n",
    "                ptB = (np.argmax(imgproc[idx,:]),idx)\n",
    "                break\n",
    "            idx+=1\n",
    "\n",
    "        angle = np.rad2deg(np.arctan((ptB[0]-ptA[0])/(ptA[1]-ptB[1])))\n",
    "        return angle\n",
    "    \n",
    "    def crop_image(self, img):\n",
    "        arr = (np.copy(img)!=0).astype(int)\n",
    "        row,col = arr.shape\n",
    "        col1, col2 = 0,0\n",
    "        for ecol in range(col):\n",
    "            if sum(arr[:,ecol]) > 0:\n",
    "                col1 = ecol\n",
    "                break\n",
    "        col1-=50\n",
    "        for ecol in reversed(range(col)):\n",
    "            if sum(arr[:,ecol]) > 0:\n",
    "                col2 = ecol\n",
    "                break\n",
    "        col2+=50\n",
    "        return arr[:,col1:col2]\n",
    "        \n",
    "    def rotate_image(self, mat, angle):\n",
    "        \"\"\"\n",
    "        Rotates an image (angle in degrees) and expands image to avoid cropping\n",
    "        \"\"\"\n",
    "\n",
    "        height, width = mat.shape[:2] # image shape has 3 dimensions\n",
    "        image_center = (width/2, height/2) \n",
    "\n",
    "        # getRotationMatrix2D needs coordinates in reverse order (width, height) compared to shape\n",
    "        rotation_mat = cv2.getRotationMatrix2D(image_center, angle, 1.)\n",
    "        \n",
    "        # rotation calculates the cos and sin, taking absolutes of those.\n",
    "        abs_cos = abs(rotation_mat[0,0]) \n",
    "        abs_sin = abs(rotation_mat[0,1])\n",
    "\n",
    "        # find the new width and height bounds\n",
    "        bound_w = int(height * abs_sin + width * abs_cos)\n",
    "        bound_h = int(height * abs_cos + width * abs_sin)\n",
    "\n",
    "        # subtract old image center (bringing image back to origo) and adding the new image center coordinates\n",
    "        rotation_mat[0, 2] += bound_w/2 - image_center[0]\n",
    "        rotation_mat[1, 2] += bound_h/2 - image_center[1]\n",
    "\n",
    "        # rotate image with the new bounds and translated rotation matrix\n",
    "        rotated_mat = cv2.warpAffine(mat, rotation_mat, (bound_w, bound_h))\n",
    "        return rotated_mat\n",
    "\n",
    "    def prep_specmat(self, imgpaths, band_ident, save_file=''):\n",
    "        \n",
    "        if prepareddata_path+save_file in os.listdir(prepareddata_path):\n",
    "            return np.load(PREPAREDDATA_PATH+save_file)\n",
    "\n",
    "        def atoi(text):\n",
    "            return int(text) if text.isdigit() else text\n",
    "        def natural_keys(text):\n",
    "            return [atoi(c) for c in re.split(band_ident, text) ]\n",
    "\n",
    "        paths = sorted(np.copy(imgpaths), key=natural_keys)\n",
    "        specmat = []\n",
    "        for epath in paths:\n",
    "            band_no = re.search(band_ident, epath).group(1)\n",
    "            specmat.append(tiff.imread(epath))\n",
    "        specmat = np.dstack(tuple(specmat))\n",
    "        return specmat\n",
    "            \n",
    "    def plot_elbow(self, measures, clust):\n",
    "        _=plt.plot(clust ,measures)\n",
    "        _=plt.title('Elbow method using Intertia', fontsize=15)\n",
    "        _=plt.ylabel('Intertia {SS distance}', fontsize=15)\n",
    "        _=plt.xlabel('$k$', fontsize=15)\n",
    "        _=plt.xticks(range(len(clust)), clust)\n",
    "\n",
    "        \n",
    "        \n",
    "    # Requires rasterio installed\n",
    "    def display_rst_prop(self, imgpath):\n",
    "        src = rst.open(imgpath)\n",
    "        print('Data set Name : ', src.name)\n",
    "        print('Data set Mode : ', src.mode)\n",
    "        print('Data set Closed : ', src.closed)\n",
    "        print(f'Coordinate Reference System : {src.crs}')\n",
    "        print('Number of bands contained : ', src.count)\n",
    "        print(f'Height x Width : {src.height} x {src.width}')\n",
    "        print('Band data type : ',{i: dtype for i, dtype in zip(src.indexes, src.dtypes)})\n",
    "        print('Image bounding Box : ')\n",
    "        _top, _bottom, _left, _right = src.bounds[3], src.bounds[1], src.bounds[0], src.bounds[2]\n",
    "        print('\\t Left Most Spatial Marker', _left)\n",
    "        print('\\t Right Most Spatial Marker', _right)\n",
    "        print('\\t Bottom Most Spatial Marker', _bottom)\n",
    "        print('\\t Top Most Spatial Marker', _top)\n",
    "        print(f'\\t\\t Top Left Coordinates in {src.crs} CRS: {_left, _top}')\n",
    "        print(f'\\t\\t Top Right Coordinates in {src.crs} CRS: {_right, _top}')\n",
    "        print(f'\\t\\t Bottom Right Coordinates in {src.crs} CRS: {_left, _bottom}')\n",
    "        print(f'\\t\\t Bottom Left Coordinates in {src.crs} CRS: {_right, _bottom}\\n')\n",
    "        src_crs_cords = np.array([[_left, _top],\n",
    "                                  [_right, _top],\n",
    "                                  [_right, _bottom],\n",
    "                                  [_left, _bottom]])\n",
    "        cord_pnames = ['Top Left', 'Top Right', 'Bottom Right', 'Bottom Left']\n",
    "\n",
    "        for eachname, eachcoord in zip(cord_pnames, src_crs_cords):\n",
    "            dst_crs = 'EPSG:4326'\n",
    "            lat,long = rasterio.warp.transform(src_crs= src.crs.__str__(),\n",
    "                                          dst_crs= 'EPSG:4326',\n",
    "                                          xs=[eachcoord[0]], ys=[eachcoord[1]])\n",
    "            print(f'\\t\\t {eachname} Corrdinates in {dst_crs} CRS : {(lat[0], long[0])}')\n",
    "\n",
    "\n",
    "        print(f'\\n\\t Total Width  {_right-_left} mt')\n",
    "        print(f'\\t Total Height {_top-_bottom} mt')\n",
    "\n",
    "    def to_epsg4326(self, _long, _lat, from_crs='EPSG:32643', to_crs='EPSG:4326'):\n",
    "        \"\"\"\n",
    "        Returns long and lat\n",
    "        \"\"\"\n",
    "        long, lat = rst.warp.transform(src_crs= from_crs,\n",
    "                                       dst_crs= to_crs,\n",
    "                                       xs=[_long], ys=[_lat])\n",
    "        return long[0], lat[0]        \n",
    "        \n",
    "        \n",
    "helperHandler = HelperFunctions()"
   ]
  },
  {
   "cell_type": "markdown",
   "metadata": {
    "heading_collapsed": true
   },
   "source": [
    "# Check for the Shape and Prepare the Spectral Matrix"
   ]
  },
  {
   "cell_type": "code",
   "execution_count": null,
   "metadata": {
    "ExecuteTime": {
     "end_time": "2020-08-10T07:58:52.191833Z",
     "start_time": "2020-08-10T07:58:33.048521Z"
    },
    "hidden": true
   },
   "outputs": [],
   "source": [
    "img_shape_dict = {'tileset1_img_path':(3441, 1191),\n",
    "                  'tileset2_img_path':(3521, 1061),\n",
    "                  'tileset3_img_path':(3481, 1021)}\n",
    "tot_data_dict = {'tileset1_img_path':886698,\n",
    "                  'tileset2_img_path':908639,\n",
    "                  'tileset3_img_path':858445}\n",
    "tot_data_dict_tst = {'tileset1_img_path':[],\n",
    "                  'tileset2_img_path':[],\n",
    "                  'tileset3_img_path':[]}\n",
    "\n",
    "for eachset in [tileset1_img_path, tileset2_img_path, tileset3_img_path]:\n",
    "    setname = helperHandler.get_varstr(eachset)[0]\n",
    "    print(f'Evaluating for {setname}')\n",
    "    for eachimg in eachset:\n",
    "        _img = tiff.imread(eachimg)\n",
    "        _imgchck = sum(sum(_img!=0))\n",
    "        tot_data_dict_tst[setname].append(_imgchck)\n",
    "        assert _img.shape == img_shape_dict[setname], f\"Different shape than {img_shape}, {_img.shape}\"\n",
    "        \n",
    "    print(f'All images in {setname} are of shape {img_shape_dict[setname]}\\n')"
   ]
  },
  {
   "cell_type": "code",
   "execution_count": null,
   "metadata": {
    "ExecuteTime": {
     "end_time": "2020-08-10T07:58:52.197819Z",
     "start_time": "2020-08-10T07:58:52.193828Z"
    },
    "hidden": true
   },
   "outputs": [],
   "source": [
    "# ts1_smat = helperHandler.prep_specmat(imgpaths=tileset1_img_path, \n",
    "#                                       band_ident=r'_B(\\d+)', save_file='ts1.pkl.npy')\n",
    "# ts2_smat = helperHandler.prep_specmat(imgpaths=tileset2_img_path, \n",
    "#                                       band_ident=r'_B(\\d+)', save_file='ts2.pkl.npy')\n",
    "# ts3_smat = helperHandler.prep_specmat(imgpaths=tileset3_img_path, \n",
    "#                                       band_ident=r'_B(\\d+)', save_file='ts3.pkl.npy')\n",
    "# print('Shape of the First tile set - Spectral ',ts1_smat.shape)\n",
    "# print('Shape of the Second tile set - Spectral ',ts2_smat.shape)\n",
    "# print('Shape of the Third tile set - Spectral ',ts3_smat.shape)"
   ]
  },
  {
   "cell_type": "markdown",
   "metadata": {
    "heading_collapsed": true
   },
   "source": [
    "# Data Processing"
   ]
  },
  {
   "cell_type": "code",
   "execution_count": 4,
   "metadata": {
    "ExecuteTime": {
     "end_time": "2020-08-10T18:40:10.890561Z",
     "start_time": "2020-08-10T18:40:10.882892Z"
    },
    "hidden": true
   },
   "outputs": [],
   "source": [
    "# Which tileset is being processed\n",
    "tileset_no = 3\n",
    "\n",
    "_pths1 = {1:tileset1_img_path.copy(),\n",
    "          2:tileset2_img_path.copy(),\n",
    "          3:tileset3_img_path.copy()}\n",
    "_pths2 = {1:'tileset1',\n",
    "          2:'tileset2',\n",
    "          3:'tileset3'}\n",
    "\n",
    "imgpaths= _pths1[tileset_no]\n",
    "\n",
    "savefile0 = prepareddata_path+f'{_pths2[tileset_no]}/tile{tileset_no}_orig.pkl'\n",
    "savefile1 = prepareddata_path+f'{_pths2[tileset_no]}/tile{tileset_no}_rotated.pkl'\n",
    "savefile2 = prepareddata_path+f'{_pths2[tileset_no]}/tile{tileset_no}_slice.pkl'\n",
    "savefile3 = prepareddata_path+f'{_pths2[tileset_no]}/tile{tileset_no}_slice_mean.pkl'\n",
    "savefile4 = prepareddata_path+f'{_pths2[tileset_no]}/tile{tileset_no}_slice_RGB.pkl'\n",
    "savefile5 = prepareddata_path+f'{_pths2[tileset_no]}/tile{tileset_no}_slice_BGR.pkl'\n",
    "savefile6 = prepareddata_path+f'{_pths2[tileset_no]}/tile{tileset_no}_orig_coord.pkl'\n",
    "savefile7 = prepareddata_path+f'{_pths2[tileset_no]}/tile{tileset_no}_trsf_coord.pkl' # to be loaded\n",
    "savefile8 = prepareddata_path+f'{_pths2[tileset_no]}/tile{tileset_no}_geom.pkl' # to be loaded\n",
    "savefile9 = prepareddata_path+f'{_pths2[tileset_no]}/tile{tileset_no}_classmask.html' # to be loaded\n",
    "\n",
    "\n",
    "\n",
    "os.makedirs(prepareddata_path+f'{_pths2[tileset_no]}/', exist_ok=True)\n"
   ]
  },
  {
   "cell_type": "markdown",
   "metadata": {
    "ExecuteTime": {
     "end_time": "2020-08-02T22:15:42.160036Z",
     "start_time": "2020-08-02T22:15:42.153821Z"
    },
    "hidden": true
   },
   "source": [
    "**Calculating the average *ANGLE TO 90* for tileset images**"
   ]
  },
  {
   "cell_type": "code",
   "execution_count": null,
   "metadata": {
    "ExecuteTime": {
     "end_time": "2020-08-10T13:16:19.761916Z",
     "start_time": "2020-08-10T13:16:06.400863Z"
    },
    "hidden": true
   },
   "outputs": [],
   "source": [
    "indangles = []\n",
    "for epath in imgpaths:\n",
    "    indangles.append(helperHandler.angle_to90(tiff.imread(epath)))\n",
    "plt.plot(indangles)\n",
    "_=plt.title('Variation in angle to 90')\n",
    "mean_angleto90 = np.mean(indangles)\n",
    "_=plt.hlines(mean_angleto90,0,260, color='r')\n",
    "print('Average angle to 90 : ', np.mean(mean_angleto90))"
   ]
  },
  {
   "cell_type": "markdown",
   "metadata": {
    "hidden": true
   },
   "source": [
    "**Rotation and Concatanation**\n",
    "- Rotate each image to mean angle to 90\n",
    "- Concatanate each bands to a single matrix"
   ]
  },
  {
   "cell_type": "code",
   "execution_count": null,
   "metadata": {
    "ExecuteTime": {
     "end_time": "2020-08-10T07:58:57.852608Z",
     "start_time": "2020-08-10T07:58:56.974956Z"
    },
    "hidden": true
   },
   "outputs": [],
   "source": [
    "\n",
    "origimg = tiff.imread(imgpaths[37])\n",
    "rotatedimg = helperHandler.rotate_image(origimg, mean_angleto90)\n",
    "helperHandler.imgN_show([origimg, rotatedimg], \n",
    "                        titles=[f'Original{origimg.shape}', f'Rotated{rotatedimg.shape}'],\n",
    "                        fsize=(6,10))\n"
   ]
  },
  {
   "cell_type": "code",
   "execution_count": null,
   "metadata": {
    "ExecuteTime": {
     "end_time": "2020-08-10T08:00:03.335552Z",
     "start_time": "2020-08-10T07:59:21.392965Z"
    },
    "hidden": true
   },
   "outputs": [],
   "source": [
    "specmat_orig = []\n",
    "specmat = []\n",
    "for epath in tqdm(imgpaths):\n",
    "    oimg = tiff.imread(epath)\n",
    "    rotimg = helperHandler.rotate_image(oimg, mean_angleto90)\n",
    "    specmat.append(rotimg)\n",
    "    specmat_orig.append(oimg)\n",
    "    \n",
    "specmat_orig = np.dstack(tuple(specmat_orig))\n",
    "specmat = np.dstack(tuple(specmat))\n",
    "\n",
    "print('Orignal Spectral matrix shape : ', specmat_orig.shape)\n",
    "print('Rotated Spectral matrix shape : ', specmat.shape)\n"
   ]
  },
  {
   "cell_type": "code",
   "execution_count": null,
   "metadata": {
    "hidden": true
   },
   "outputs": [],
   "source": []
  },
  {
   "cell_type": "markdown",
   "metadata": {
    "hidden": true
   },
   "source": [
    "**GET ORIGINAL SPECMAT DATA EXTREME COORDINATES**"
   ]
  },
  {
   "cell_type": "code",
   "execution_count": null,
   "metadata": {
    "ExecuteTime": {
     "end_time": "2020-08-10T08:00:41.648355Z",
     "start_time": "2020-08-10T08:00:40.786662Z"
    },
    "hidden": true
   },
   "outputs": [],
   "source": [
    "specmat_orig_mean = specmat_orig.mean(axis=2)\n",
    "specmat_orig_mean_mask2d = (specmat_orig_mean>0).astype(int)\n",
    "\n",
    "# Get top left\n",
    "_topleft = ()\n",
    "for each in range(specmat_orig_mean_mask2d.shape[0]):\n",
    "    idx = list(np.where(specmat_orig_mean_mask2d[each,:]==1)[0])\n",
    "    if idx !=[]:\n",
    "        _topleft = (each, idx[0])\n",
    "        break\n",
    "\n",
    "# Get bottom right\n",
    "_bottomright = ()\n",
    "for each in reversed(range(specmat_orig_mean_mask2d.shape[0])):\n",
    "    idx = list(np.where(specmat_orig_mean_mask2d[each,:]==1)[0])\n",
    "    if idx !=[]:\n",
    "        _bottomright = (each, idx[0])\n",
    "        break\n",
    "\n",
    "        \n",
    "# Get bottom left\n",
    "_bottomleft = ()\n",
    "for each in range(specmat_orig_mean_mask2d.shape[1]):\n",
    "    idx = list(np.where(specmat_orig_mean_mask2d[:,each]==1)[0])\n",
    "    if idx !=[]:\n",
    "        _bottomleft = (idx[0],each)\n",
    "        break\n",
    "        \n",
    "        \n",
    "# Get top right\n",
    "_topright = ()\n",
    "for each in reversed(range(specmat_orig_mean_mask2d.shape[1])):\n",
    "    idx = list(np.where(specmat_orig_mean_mask2d[:,each]==1)[0])\n",
    "    if idx !=[]:\n",
    "        _topright = (idx[0],each)\n",
    "        break\n",
    "\n",
    "        \n",
    "coord_dict = {'top_left':_topleft,\n",
    "              'top_right':_topright,\n",
    "              'bottom_right':_bottomright,\n",
    "              'bottom_left':_bottomleft}\n",
    "coord_dict\n",
    "# with open(savefile6, 'wb') as handle:\n",
    "#     pickle.dump(coord_dict, handle, protocol=pickle.HIGHEST_PROTOCOL)"
   ]
  },
  {
   "cell_type": "markdown",
   "metadata": {
    "hidden": true
   },
   "source": [
    "**CONVERT TO LAT AND LONG**"
   ]
  },
  {
   "cell_type": "code",
   "execution_count": null,
   "metadata": {
    "ExecuteTime": {
     "end_time": "2020-08-10T08:00:55.473624Z",
     "start_time": "2020-08-10T08:00:55.442696Z"
    },
    "hidden": true
   },
   "outputs": [],
   "source": [
    "with open(savefile7, 'rb') as handle:\n",
    "    transformed_cord = pickle.load(handle)\n",
    "print(transformed_cord)\n",
    "\n",
    "with open(savefile8, 'rb') as handle:\n",
    "    geom = pickle.load(handle)\n",
    "geom\n",
    "\n"
   ]
  },
  {
   "cell_type": "markdown",
   "metadata": {
    "ExecuteTime": {
     "end_time": "2020-08-09T03:43:05.043418Z",
     "start_time": "2020-08-09T03:43:04.993514Z"
    },
    "hidden": true
   },
   "source": [
    "**CHECK FOLIUM OVERLAY**"
   ]
  },
  {
   "cell_type": "code",
   "execution_count": null,
   "metadata": {
    "ExecuteTime": {
     "end_time": "2020-08-10T08:01:07.640375Z",
     "start_time": "2020-08-10T08:01:07.610460Z"
    },
    "hidden": true
   },
   "outputs": [],
   "source": [
    "m = folium.Map(location=geom['coordinates'][0][0][::-1],\n",
    "               position='topright',\n",
    "               zoom_start=8)\n",
    "folium.GeoJson(geom, name='geojson').add_to(m)\n",
    "\n",
    "for k,v in transformed_cord.items():\n",
    "    folium.Marker([v[1],v[0]], popup=k).add_to(m)\n",
    "\n",
    "# folium.raster_layers.ImageOverlay(image=specmat_sliced_mean,# Longitude # Latitude\n",
    "#                                   bounds=[geom['coordinates'][0][0][::-1],\n",
    "#                                           geom['coordinates'][0][2][::-1]],\n",
    "#                                   origin='upper',\n",
    "#                                   opacity=0.5,\n",
    "#                                   colormap=plt.cm.get_cmap('viridis'),\n",
    "#                                   mercator_project=False,\n",
    "#                                   pixelated=True,\n",
    "#                                   name=None,\n",
    "#                                   overlay=True,\n",
    "#                                   control=True,\n",
    "#                                   show=True).add_to(m)\n",
    "m"
   ]
  },
  {
   "cell_type": "markdown",
   "metadata": {
    "hidden": true
   },
   "source": [
    "**Sum over the third axis and create a mask**"
   ]
  },
  {
   "cell_type": "code",
   "execution_count": null,
   "metadata": {
    "ExecuteTime": {
     "end_time": "2020-08-10T08:01:18.111861Z",
     "start_time": "2020-08-10T08:01:13.609338Z"
    },
    "hidden": true
   },
   "outputs": [],
   "source": [
    "# Data Mask for \n",
    "volume_sum   = specmat.sum(axis=2)\n",
    "volume_mean  = specmat.mean(axis=2)\n",
    "volume_meanmask2d = volume_mean>0\n",
    "\n",
    "helperHandler.imgN_show(images=[volume_sum, volume_mean, volume_meanmask2d], \n",
    "                        titles=['Volume Sum', 'Volume Mean (Act.)', 'Volume Mask'],\n",
    "                        fsize=(10,6))\n",
    "\n",
    "xmin, xmax = np.where(volume_meanmask2d)[0].min(), np.where(volume_meanmask2d)[0].max()\n",
    "ymin, ymax = np.where(volume_meanmask2d)[1].min(), np.where(volume_meanmask2d)[1].max()\n",
    "\n",
    "ptA = (xmin,ymin)\n",
    "ptB = (xmax,ymin)\n",
    "ptC = (xmax,ymax)\n",
    "ptD = (xmin,ymax)\n",
    "\n",
    "print('Point A : ', ptA)\n",
    "print('Point B : ', ptB)\n",
    "print('Point C : ', ptC)\n",
    "print('Point D : ', ptD)"
   ]
  },
  {
   "cell_type": "markdown",
   "metadata": {
    "hidden": true
   },
   "source": [
    "**Slice specmat from the original volume, & save the sliced file**"
   ]
  },
  {
   "cell_type": "code",
   "execution_count": null,
   "metadata": {
    "ExecuteTime": {
     "end_time": "2020-08-10T08:01:26.491841Z",
     "start_time": "2020-08-10T08:01:23.875401Z"
    },
    "hidden": true
   },
   "outputs": [],
   "source": [
    "print('Original Matrix Shape:',specmat.shape)\n",
    "specmat_sliced = specmat[ptA[0]:ptB[0]+1, ptB[1]:ptC[1]+1,:].copy()\n",
    "print('Sliced Matrix Shape :',specmat_sliced.shape)\n",
    "helperHandler.imgN_show(images=[specmat.mean(axis=2), specmat_sliced.mean(axis=2)],\n",
    "                        titles=['Total Volume Mean', 'Sliced Volume Mean'])\n"
   ]
  },
  {
   "cell_type": "code",
   "execution_count": null,
   "metadata": {
    "ExecuteTime": {
     "end_time": "2020-08-10T08:01:31.418452Z",
     "start_time": "2020-08-10T08:01:31.044452Z"
    },
    "hidden": true
   },
   "outputs": [],
   "source": [
    "specmat_sliced_sum = specmat_sliced.sum(axis=2)\n",
    "specmat_sliced_sum_norm = specmat_sliced_sum/specmat_sliced_sum.max()\n",
    "specmat_sliced_mean = specmat_sliced.mean(axis=2)\n",
    "specmat_sliced_mean_norm = specmat_sliced_mean/specmat_sliced_mean.max()\n",
    "\n",
    "print('Spectral Slice Sum : ', specmat_sliced_sum.shape)\n",
    "print('Spectral Slice Mean : ', specmat_sliced_mean.shape)"
   ]
  },
  {
   "cell_type": "markdown",
   "metadata": {
    "hidden": true
   },
   "source": [
    "**RGB AND BGR IMAGE BAND SLICE STACKED**"
   ]
  },
  {
   "cell_type": "code",
   "execution_count": null,
   "metadata": {
    "ExecuteTime": {
     "end_time": "2020-08-10T08:02:57.733074Z",
     "start_time": "2020-08-10T08:02:57.290220Z"
    },
    "hidden": true
   },
   "outputs": [],
   "source": [
    "redband_slice = specmat_sliced[:,:,21]\n",
    "greenband_slice = specmat_sliced[:,:,19]\n",
    "blueband_slice = specmat_sliced[:,:,7]\n",
    "\n",
    "# RGB and BGR stack for the image\n",
    "rgb_slice = np.dstack((redband_slice,\n",
    "                       greenband_slice,\n",
    "                       blueband_slice))\n",
    "bgr_slice = np.dstack((blueband_slice,\n",
    "                       greenband_slice,\n",
    "                       redband_slice))\n",
    "specmat_rgb_sliced = rgb_slice.astype(np.uint8)\n",
    "specmat_bgr_sliced = bgr_slice.astype(np.uint8)\n",
    "\n",
    "helperHandler.imgN_show([specmat_bgr_sliced, specmat_rgb_sliced], \n",
    "                        titles=['BGR Stacking', 'RGB Stacking']) # Look into cmap"
   ]
  },
  {
   "cell_type": "markdown",
   "metadata": {
    "hidden": true
   },
   "source": [
    "**SAVE DATA**"
   ]
  },
  {
   "cell_type": "code",
   "execution_count": null,
   "metadata": {
    "ExecuteTime": {
     "end_time": "2020-08-09T12:37:25.606351Z",
     "start_time": "2020-08-09T12:37:12.212Z"
    },
    "hidden": true
   },
   "outputs": [],
   "source": [
    "\n",
    "# np.save(prepareddata_path+savefile0, specmat_orig)\n",
    "# np.save(prepareddata_path+savefile1, specmat)\n",
    "# np.save(prepareddata_path+savefile2, specmat_sliced)\n",
    "# np.save(prepareddata_path+savefile3, specmat_sliced_mean)\n",
    "# np.save(prepareddata_path+savefile4, specmat_rgb_sliced)\n",
    "# np.save(prepareddata_path+savefile5, specmat_bgr_sliced)\n"
   ]
  },
  {
   "cell_type": "markdown",
   "metadata": {
    "hidden": true
   },
   "source": [
    "**LOAD DATA**"
   ]
  },
  {
   "cell_type": "code",
   "execution_count": 5,
   "metadata": {
    "ExecuteTime": {
     "end_time": "2020-08-10T18:40:21.726101Z",
     "start_time": "2020-08-10T18:40:15.135507Z"
    },
    "hidden": true
   },
   "outputs": [
    {
     "name": "stdout",
     "output_type": "stream",
     "text": [
      "Spectral Original Data Shape :  (3481, 1021, 242)\n",
      "Spectral Data Shape :  (3620, 1762, 242)\n",
      "Spectral Slice Shape :  (3496, 249, 242)\n",
      "Spectral Slice Mean :  (3496, 249)\n",
      "Spectral RGB  :  (3496, 249, 3)\n",
      "Spectral BGR :  (3496, 249, 3)\n"
     ]
    }
   ],
   "source": [
    "\n",
    "specmat_orig = np.load(prepareddata_path+savefile0+'.npy')\n",
    "specmat = np.load(prepareddata_path+savefile1+'.npy')\n",
    "specmat_sliced = np.load(prepareddata_path+savefile2+'.npy')\n",
    "specmat_sliced_mean = np.load(prepareddata_path+savefile3+'.npy')\n",
    "specmat_rgb_sliced = np.load(prepareddata_path+savefile4+'.npy')\n",
    "specmat_bgr_sliced = np.load(prepareddata_path+savefile5+'.npy')\n",
    "with open(savefile7, 'rb') as handle:\n",
    "    transformed_cord = pickle.load(handle)\n",
    "\n",
    "with open(savefile8, 'rb') as handle:\n",
    "    geom = pickle.load(handle)\n",
    "\n",
    "\n",
    "print('Spectral Original Data Shape : ', specmat_orig.shape)\n",
    "print('Spectral Data Shape : ', specmat.shape)\n",
    "print('Spectral Slice Shape : ', specmat_sliced.shape)\n",
    "print('Spectral Slice Mean : ', specmat_sliced_mean.shape)\n",
    "print('Spectral RGB  : ', specmat_rgb_sliced.shape)\n",
    "print('Spectral BGR : ', specmat_bgr_sliced.shape)\n"
   ]
  },
  {
   "cell_type": "markdown",
   "metadata": {
    "heading_collapsed": true
   },
   "source": [
    "# Spectral Analysis\n",
    "\n",
    "- https://www.youtube.com/watch?v=vxh53StWaUk\n",
    "\n",
    "\n",
    "\n",
    "\n",
    "**OBSERVATIONS**\n",
    "- Given the scale of the pixel value , maybe they represent the Irradiance.\n"
   ]
  },
  {
   "cell_type": "code",
   "execution_count": null,
   "metadata": {
    "ExecuteTime": {
     "end_time": "2020-08-10T09:53:56.917077Z",
     "start_time": "2020-08-10T09:53:56.905951Z"
    },
    "hidden": true
   },
   "outputs": [],
   "source": [
    "mask_palette = [eval(k) for k in ['(230, 25, 75)', \n",
    "                                    '(60, 180, 75)', \n",
    "                                    '(255, 225, 25)', \n",
    "                                    '(0, 130, 200)', \n",
    "                                    '(245, 130, 48)', \n",
    "                                    '(145, 30, 180)', \n",
    "                                    '(70, 240, 240)', \n",
    "                                    '(240, 50, 230)', \n",
    "                                    '(210, 245, 60)', \n",
    "                                    '(250, 190, 212)', \n",
    "                                    '(0, 128, 128)', \n",
    "                                    '(220, 190, 255)', \n",
    "                                    '(170, 110, 40)', \n",
    "                                    '(255, 250, 200)', \n",
    "                                    '(128, 0, 0)', \n",
    "                                    '(170, 255, 195)', \n",
    "                                    '(128, 128, 0)', \n",
    "                                    '(255, 215, 180)', \n",
    "                                    '(0, 0, 128)', \n",
    "                                    '(128, 128, 128)', \n",
    "                                    '(255, 255, 255)', \n",
    "                                    '(0, 0, 0)']]"
   ]
  },
  {
   "cell_type": "markdown",
   "metadata": {
    "ExecuteTime": {
     "end_time": "2020-08-03T13:43:29.126509Z",
     "start_time": "2020-08-03T13:43:28.617731Z"
    },
    "hidden": true
   },
   "source": [
    "**ANALYSING BANDS OF THE SPECTRAL SLICE**"
   ]
  },
  {
   "cell_type": "code",
   "execution_count": null,
   "metadata": {
    "ExecuteTime": {
     "end_time": "2020-08-10T08:03:21.795646Z",
     "start_time": "2020-08-10T08:03:21.461262Z"
    },
    "hidden": true
   },
   "outputs": [],
   "source": [
    "top_bands = specmat_sliced.sum(axis=0).sum(axis=0).argsort()[-6:][::-1]\n",
    "helperHandler.imgN_show(specmat_sliced[:,:,top_bands[0]].T, \n",
    "                        titles = [f'Band {top_bands[0]}'],\n",
    "                        fsize=(10,5))\n",
    "print('Top 6 Spectral bands with most values ', top_bands)"
   ]
  },
  {
   "cell_type": "code",
   "execution_count": null,
   "metadata": {
    "ExecuteTime": {
     "end_time": "2020-08-10T08:03:26.007127Z",
     "start_time": "2020-08-10T08:03:25.685968Z"
    },
    "hidden": true
   },
   "outputs": [],
   "source": [
    "# Pick a random pixel from the MXN spatial space and plot the wavelength variation \n",
    "ran_r = np.random.choice(range(specmat_sliced.shape[0]), 50)\n",
    "ran_c = np.random.choice(range(specmat_sliced.shape[1]), 50)\n",
    "ran_pxls = [(k,v) for k,v in zip(ran_c,ran_r)]\n",
    "_=plt.plot(specmat_sliced[ran_r,ran_c,:].T)\n"
   ]
  },
  {
   "cell_type": "code",
   "execution_count": null,
   "metadata": {
    "ExecuteTime": {
     "end_time": "2020-08-10T08:03:27.572444Z",
     "start_time": "2020-08-10T08:03:27.555491Z"
    },
    "code_folding": [
     1,
     33,
     53
    ],
    "hidden": true
   },
   "outputs": [],
   "source": [
    "class SpectralPixAnalysis:\n",
    "    def __init__(self, spectral_data, spectral_img = None):\n",
    "        self.specfig, self.specaxes = plt.subplots(nrows=3,ncols=1,\n",
    "                                                    gridspec_kw={'height_ratios': [1, 2, 2]},\n",
    "                                                    figsize=(13,11))\n",
    "        plt.tight_layout()\n",
    "        self.spectral_data = spectral_data.copy()\n",
    "        if spectral_img is None:\n",
    "            self.spectral_img = spectral_data.mean(axis=2).T\n",
    "        else:\n",
    "            self.spectral_img = spectral_img.copy()\n",
    "        self.img_h, self.img_w = self.spectral_img.shape\n",
    "        \n",
    "        self.prev_line_x, self.prev_line_y, self.specplt = None, None, None\n",
    "        self.retain_dict = {}\n",
    "        \n",
    "        # Connect the event handlers to the plot\n",
    "        self.specfig.canvas.mpl_connect('motion_notify_event', self.enter_axes)\n",
    "        self.specfig.canvas.mpl_connect('button_press_event', self.mouse_clicked)\n",
    "        \n",
    "        # Plot the HSI image\n",
    "        self.specaxes[0].imshow(self.spectral_img, cmap='gray', aspect='auto')\n",
    "        \n",
    "        # Set labels for the \n",
    "        self.specaxes[1].set_xlabel(r'$\\lambda\\ Band No.\\longrightarrow$',fontsize=10)\n",
    "        self.specaxes[1].set_ylabel(r'$Irradiance$',fontsize=10)\n",
    "\n",
    "        # Set the y limits for the last two plots\n",
    "        self.specaxes[1].set_ylim(0,self.spectral_data.max())\n",
    "        self.specaxes[2].set_ylim(0,self.spectral_data.max())\n",
    "        self.specaxes[1].grid()\n",
    "        self.specaxes[2].grid()\n",
    "\n",
    "    def enter_axes(self, event):\n",
    "        if event.inaxes == self.specaxes[0]:\n",
    "            ax=event.inaxes\n",
    "            if self.prev_line_x != None:\n",
    "                self.prev_line_x.remove()\n",
    "\n",
    "            if self.prev_line_y != None:\n",
    "                self.prev_line_y.remove()\n",
    "                \n",
    "            if self.specplt != None:\n",
    "                self.specplt[0].remove()\n",
    "\n",
    "            x_pixel, y_pixel = int(event.xdata), int(event.ydata)\n",
    "            \n",
    "            self.prev_line_x=ax.vlines(x_pixel,0,self.img_h-2,color='r',linewidth=1,linestyle=':')\n",
    "            self.prev_line_y=ax.hlines(y_pixel,0,self.img_w-2,color='r',linewidth=1,linestyle=':')\n",
    "            \n",
    "            spectral_data = self.spectral_data[x_pixel,y_pixel,:]\n",
    "            self.specplt = self.specaxes[1].plot(spectral_data)\n",
    "    \n",
    "    def mouse_clicked(self,event):\n",
    "        if event.inaxes==self.specaxes[0]:\n",
    "\n",
    "            x_pixel, y_pixel = int(event.xdata), int(event.ydata)\n",
    "            spectral_data = self.spectral_data[x_pixel,y_pixel,:]\n",
    "    \n",
    "            self.retain_dict[f'Pixel_({x_pixel},{y_pixel})'] = spectral_data\n",
    "            try:\n",
    "                self.specaxes[2].get_legend().remove()\n",
    "                for each in self.specaxes[2].lines:\n",
    "                    each.remove()\n",
    "            except:\n",
    "                pass\n",
    "        \n",
    "            for k,v in self.retain_dict.items():\n",
    "                self.specaxes[2].plot(v, label=k)\n",
    "                self.specaxes[2].legend()\n",
    "    \n"
   ]
  },
  {
   "cell_type": "code",
   "execution_count": null,
   "metadata": {
    "ExecuteTime": {
     "end_time": "2020-08-10T09:56:30.600772Z",
     "start_time": "2020-08-10T09:56:30.008386Z"
    },
    "hidden": true,
    "scrolled": false
   },
   "outputs": [],
   "source": [
    "%matplotlib notebook\n",
    "%matplotlib notebook\n",
    "specAnalysisTab = SpectralPixAnalysis(spectral_data = specmat_sliced, \n",
    "                                      spectral_img = specmat_sliced_mean.T)\n"
   ]
  },
  {
   "cell_type": "code",
   "execution_count": null,
   "metadata": {
    "hidden": true
   },
   "outputs": [],
   "source": []
  },
  {
   "cell_type": "markdown",
   "metadata": {},
   "source": [
    "# Unsupersvised Classification\n",
    "\n",
    "\n",
    "- DIMENSIONALITY REDUCTION :\n",
    "    - Mean across all channels and then clustering\n",
    "    - Deviation from the Average and then clustering\n",
    "    - PCA\n",
    "    - NMF\n",
    "    - SVD\n",
    "    - t-SNE\n",
    "    \n",
    "\n",
    "- UNSUPERVISED CLUSTERING \n",
    "    - Linear Mixing Models\n",
    "    - kMeans\n",
    "    - Gaussian Mixture Models\n",
    "    \n",
    "    \n",
    "- FEATURE ENGGINEERING\n",
    "    - Glcm +\n",
    "\n",
    "**Metrics for Performance**\n",
    "- Sum of Squared Error and the classification trade off"
   ]
  },
  {
   "cell_type": "code",
   "execution_count": 6,
   "metadata": {
    "ExecuteTime": {
     "end_time": "2020-08-10T18:40:27.346724Z",
     "start_time": "2020-08-10T18:40:27.341739Z"
    }
   },
   "outputs": [
    {
     "name": "stdout",
     "output_type": "stream",
     "text": [
      "Total Datapoints (pixels)  870504\n"
     ]
    }
   ],
   "source": [
    "all_classification_masks = {}\n",
    "print('Total Datapoints (pixels) ', specmat_sliced.shape[0]*specmat_sliced.shape[1])"
   ]
  },
  {
   "cell_type": "markdown",
   "metadata": {},
   "source": [
    "## Dimensionality Reduction"
   ]
  },
  {
   "cell_type": "markdown",
   "metadata": {
    "ExecuteTime": {
     "end_time": "2020-08-09T12:53:56.431464Z",
     "start_time": "2020-08-09T12:53:56.425442Z"
    }
   },
   "source": [
    "### Mean"
   ]
  },
  {
   "cell_type": "code",
   "execution_count": 7,
   "metadata": {
    "ExecuteTime": {
     "end_time": "2020-08-10T18:40:30.022930Z",
     "start_time": "2020-08-10T18:40:29.556358Z"
    }
   },
   "outputs": [
    {
     "data": {
      "image/png": "[encoded data removed]",
      "text/plain": [
       "<Figure size 1800x720 with 1 Axes>"
      ]
     },
     "metadata": {
      "needs_background": "light"
     },
     "output_type": "display_data"
    }
   ],
   "source": [
    "%matplotlib inline\n",
    "\n",
    "specmat_sliced_DR_mean = specmat_sliced_mean.reshape(specmat_sliced_mean.shape[0]*specmat_sliced_mean.shape[1],1)\n",
    "meanUCdf = pd.DataFrame(specmat_sliced_DR_mean, columns=['mean_val'])\n",
    "plt.rcParams['figure.figsize'] = (25,10)\n",
    "_=meanUCdf.mean_val.sort_values().reset_index().drop('index',axis=1).mean_val.plot()\n",
    "_=plt.title('Sorted Value of Mean Band Values', fontsize=20)\n"
   ]
  },
  {
   "cell_type": "markdown",
   "metadata": {},
   "source": [
    "### Standard Deviation"
   ]
  },
  {
   "cell_type": "code",
   "execution_count": 8,
   "metadata": {
    "ExecuteTime": {
     "end_time": "2020-08-10T18:40:32.400048Z",
     "start_time": "2020-08-10T18:40:30.612613Z"
    }
   },
   "outputs": [
    {
     "data": {
      "image/png": "[encoded data removed]",
      "text/plain": [
       "<Figure size 1800x720 with 1 Axes>"
      ]
     },
     "metadata": {
      "needs_background": "light"
     },
     "output_type": "display_data"
    }
   ],
   "source": [
    "%matplotlib inline\n",
    "\n",
    "specmat_sliced_DR_std = specmat_sliced.std(axis=2).reshape(specmat_sliced_mean.shape[0]*specmat_sliced_mean.shape[1],1)\n",
    "stdUCdf = pd.DataFrame(specmat_sliced_DR_std, columns=['std_val'])\n",
    "plt.rcParams['figure.figsize'] = (25,10)\n",
    "_=stdUCdf.std_val.sort_values().reset_index().drop('index',axis=1).std_val.plot()\n",
    "_=plt.title('Sorted Value of Std Band Values', fontsize=20)\n"
   ]
  },
  {
   "cell_type": "markdown",
   "metadata": {},
   "source": [
    "### PCA"
   ]
  },
  {
   "cell_type": "code",
   "execution_count": 9,
   "metadata": {
    "ExecuteTime": {
     "end_time": "2020-08-10T18:40:39.369129Z",
     "start_time": "2020-08-10T18:40:32.401014Z"
    }
   },
   "outputs": [
    {
     "name": "stdout",
     "output_type": "stream",
     "text": [
      "No of unequal values : 0\n",
      "Specmat 2 Dimension : (870504, 242)\n",
      "Specmat 2d scaled : (870504, 242)\n"
     ]
    }
   ],
   "source": [
    "specmat_sliced_2d = specmat_sliced.reshape(specmat_sliced.shape[0]*specmat_sliced.shape[1],\n",
    "                                           specmat_sliced.shape[2]).copy()\n",
    "scaler = StandardScaler()\n",
    "specmat_sliced_2d_scaled = scaler.fit_transform(specmat_sliced_2d)\n",
    "check = specmat_sliced_2d[:,37].reshape(specmat_sliced.shape[0], specmat_sliced.shape[1]) != specmat_sliced[:,:,37]\n",
    "\n",
    "print('No of unequal values :',sum(sum(check)))\n",
    "print('Specmat 2 Dimension :', specmat_sliced_2d.shape)\n",
    "print('Specmat 2d scaled :', specmat_sliced_2d_scaled.shape)"
   ]
  },
  {
   "cell_type": "code",
   "execution_count": 10,
   "metadata": {
    "ExecuteTime": {
     "end_time": "2020-08-10T18:41:02.613847Z",
     "start_time": "2020-08-10T18:40:39.371124Z"
    }
   },
   "outputs": [],
   "source": [
    "\n",
    "pca = PCA(n_components=100, svd_solver='full')\n",
    "specmat_sliced_DR_pca = pca.fit_transform(specmat_sliced_2d_scaled)\n",
    "pca_df = pd.DataFrame(specmat_sliced_DR_pca)\n"
   ]
  },
  {
   "cell_type": "code",
   "execution_count": null,
   "metadata": {
    "ExecuteTime": {
     "end_time": "2020-08-10T15:20:11.964090Z",
     "start_time": "2020-08-10T15:20:11.340677Z"
    }
   },
   "outputs": [],
   "source": [
    "\n",
    "plt.rcParams['figure.dpi'] = 100\n",
    "plt.rcParams['figure.figsize'] = (15,5)\n",
    "\n",
    "fig,axes = plt.subplots(1,2)\n",
    "_=axes[0].plot(pca.explained_variance_ratio_.cumsum()[:10])\n",
    "_=axes[0].set_title('Cummulative Variance Plot')\n",
    "\n",
    "_=axes[1].scatter(specmat_sliced_DR_pca[:,0], specmat_sliced_DR_pca[:,1],\n",
    "                  s=.1)\n",
    "_=axes[1].set_title('PC1 and PC2')\n",
    "_=fig.suptitle('Principal Components', fontsize=15)\n"
   ]
  },
  {
   "cell_type": "code",
   "execution_count": null,
   "metadata": {
    "ExecuteTime": {
     "end_time": "2020-08-10T15:20:21.111443Z",
     "start_time": "2020-08-10T15:20:11.966087Z"
    }
   },
   "outputs": [],
   "source": [
    "# %matplotlib notebook\n",
    "# %matplotlib notebook\n",
    "\n",
    "from mpl_toolkits.mplot3d import Axes3D\n",
    "\n",
    "fig = plt.figure()\n",
    "ax = Axes3D(fig)\n",
    "\n",
    "x=specmat_sliced_DR_pca[:,0].copy()\n",
    "y=specmat_sliced_DR_pca[:,1].copy()\n",
    "z=specmat_sliced_DR_pca[:,2].copy()\n",
    "ax.set_xlabel('PC 0')\n",
    "ax.set_ylabel('PC 1')\n",
    "ax.set_zlabel('PC 2')\n",
    "\n",
    "_=ax.scatter(x,y,z,s=0.1)\n"
   ]
  },
  {
   "cell_type": "code",
   "execution_count": null,
   "metadata": {
    "ExecuteTime": {
     "end_time": "2020-08-10T15:20:21.119382Z",
     "start_time": "2020-08-10T15:20:21.113427Z"
    }
   },
   "outputs": [],
   "source": [
    "pca.explained_variance_ratio_.cumsum()[7]"
   ]
  },
  {
   "cell_type": "code",
   "execution_count": null,
   "metadata": {
    "ExecuteTime": {
     "end_time": "2020-08-10T15:20:21.132346Z",
     "start_time": "2020-08-10T15:20:21.120379Z"
    }
   },
   "outputs": [],
   "source": [
    "%matplotlib inline"
   ]
  },
  {
   "cell_type": "markdown",
   "metadata": {
    "heading_collapsed": true
   },
   "source": [
    "### SVD"
   ]
  },
  {
   "cell_type": "code",
   "execution_count": null,
   "metadata": {
    "ExecuteTime": {
     "end_time": "2020-08-09T16:58:30.667762Z",
     "start_time": "2020-08-09T16:57:06.345844Z"
    },
    "hidden": true
   },
   "outputs": [],
   "source": [
    "\n",
    "svd = TruncatedSVD(n_components=99, n_iter=7, random_state=42)\n",
    "specmat_sliced_DR_svd =svd.fit_transform(specmat_sliced_2d_scaled)\n",
    "svd_df = pd.DataFrame(specmat_sliced_DR_svd)\n"
   ]
  },
  {
   "cell_type": "code",
   "execution_count": null,
   "metadata": {
    "ExecuteTime": {
     "end_time": "2020-08-09T16:59:08.232429Z",
     "start_time": "2020-08-09T16:59:06.060168Z"
    },
    "hidden": true
   },
   "outputs": [],
   "source": [
    "\n",
    "plt.rcParams['figure.dpi'] = 100\n",
    "plt.rcParams['figure.figsize'] = (15,5)\n",
    "\n",
    "fig,axes = plt.subplots(1,2)\n",
    "_=axes[0].plot(svd.explained_variance_ratio_.cumsum()[:10])\n",
    "_=axes[0].set_title('Cummulative Variance Plot')\n",
    "_=axes[0].set_xlabel('Component No.')\n",
    "_=axes[0].set_ylabel('Cummulative Variance Explained')\n",
    "\n",
    "_=axes[1].scatter(specmat_sliced_DR_svd[:,0], specmat_sliced_DR_svd[:,1],\n",
    "                  s=.1)\n",
    "_=axes[1].set_title('Component 1 and Component 2')\n",
    "_=axes[1].set_xlabel('Component 1')\n",
    "_=axes[1].set_ylabel('Component 2')\n",
    "_=fig.suptitle('SVD Decomposition', fontsize=15)\n"
   ]
  },
  {
   "cell_type": "code",
   "execution_count": null,
   "metadata": {
    "ExecuteTime": {
     "end_time": "2020-08-09T16:43:59.852829Z",
     "start_time": "2020-08-09T16:43:59.496003Z"
    },
    "hidden": true
   },
   "outputs": [],
   "source": [
    "%matplotlib notebook\n",
    "%matplotlib notebook\n",
    "\n",
    "from mpl_toolkits.mplot3d import Axes3D\n",
    "\n",
    "fig = plt.figure()\n",
    "ax = Axes3D(fig)\n",
    "\n",
    "x=specmat_sliced_DR_svd[:,0].copy()\n",
    "y=specmat_sliced_DR_svd[:,1].copy()\n",
    "z=specmat_sliced_DR_svd[:,2].copy()\n",
    "ax.set_xlabel('Component 0')\n",
    "ax.set_ylabel('Component 1')\n",
    "ax.set_zlabel('Component 2')\n",
    "\n",
    "_=ax.scatter(x,y,z,s=0.1)\n"
   ]
  },
  {
   "cell_type": "code",
   "execution_count": null,
   "metadata": {
    "ExecuteTime": {
     "end_time": "2020-08-09T16:46:26.139074Z",
     "start_time": "2020-08-09T16:46:26.129209Z"
    },
    "hidden": true
   },
   "outputs": [],
   "source": [
    "%matplotlib inline"
   ]
  },
  {
   "cell_type": "markdown",
   "metadata": {
    "heading_collapsed": true
   },
   "source": [
    "### NMF\n",
    "- Taking way too long for processing"
   ]
  },
  {
   "cell_type": "code",
   "execution_count": null,
   "metadata": {
    "ExecuteTime": {
     "end_time": "2020-08-09T17:18:20.912367Z",
     "start_time": "2020-08-09T17:18:20.907462Z"
    },
    "hidden": true
   },
   "outputs": [],
   "source": [
    "\n",
    "specmat_sliced_2d_01scaled = specmat_sliced_2d/specmat_sliced_2d.max(axis=0)\n",
    "\n",
    "nmf = NMF(n_components=100, init='random', random_state=0)\n",
    "specmat_sliced_DR_nmf =nmf.fit_transform(specmat_sliced_2d_01scaled)\n",
    "nmf_df = pd.DataFrame(specmat_sliced_DR_nmf)\n"
   ]
  },
  {
   "cell_type": "code",
   "execution_count": null,
   "metadata": {
    "ExecuteTime": {
     "end_time": "2020-08-09T17:18:05.372874Z",
     "start_time": "2020-08-09T17:09:07.306Z"
    },
    "hidden": true
   },
   "outputs": [],
   "source": [
    "\n",
    "plt.rcParams['figure.dpi'] = 100\n",
    "plt.rcParams['figure.figsize'] = (15,5)\n",
    "\n",
    "fig,axes = plt.subplots(1,1)\n",
    "\n",
    "_=axes[1].scatter(specmat_sliced_DR_nmf[:,0], specmat_sliced_DR_nmf[:,1],\n",
    "                  s=.1)\n",
    "_=axes[1].set_title('Component 1 and Component 2')\n",
    "_=axes[1].set_xlabel('Component 1')\n",
    "_=axes[1].set_ylabel('Component 2')\n",
    "_=fig.suptitle('NMF Decomposition', fontsize=15)\n"
   ]
  },
  {
   "cell_type": "code",
   "execution_count": null,
   "metadata": {
    "ExecuteTime": {
     "end_time": "2020-08-09T17:18:05.373872Z",
     "start_time": "2020-08-09T17:09:07.548Z"
    },
    "hidden": true
   },
   "outputs": [],
   "source": [
    "%matplotlib notebook\n",
    "%matplotlib notebook\n",
    "\n",
    "fig = plt.figure()\n",
    "ax = Axes3D(fig)\n",
    "\n",
    "x=specmat_sliced_DR_nmf[:,0].copy()\n",
    "y=specmat_sliced_DR_nmf[:,1].copy()\n",
    "z=specmat_sliced_DR_nmf[:,2].copy()\n",
    "ax.set_xlabel('Component 0')\n",
    "ax.set_ylabel('Component 1')\n",
    "ax.set_zlabel('Component 2')\n",
    "\n",
    "_=ax.scatter(x,y,z,s=0.1)\n"
   ]
  },
  {
   "cell_type": "code",
   "execution_count": null,
   "metadata": {
    "hidden": true
   },
   "outputs": [],
   "source": [
    "%matplotlib inline"
   ]
  },
  {
   "cell_type": "markdown",
   "metadata": {},
   "source": [
    "### Combining Mean+std+PC1+PC2"
   ]
  },
  {
   "cell_type": "code",
   "execution_count": 11,
   "metadata": {
    "ExecuteTime": {
     "end_time": "2020-08-10T18:41:04.073978Z",
     "start_time": "2020-08-10T18:41:02.615807Z"
    }
   },
   "outputs": [],
   "source": [
    "b1 = specmat_sliced_mean\n",
    "b2 = specmat_sliced.std(axis=2)\n",
    "b3 = specmat_sliced_DR_pca[:,0].reshape(specmat_sliced.shape[0],specmat_sliced.shape[1])\n",
    "b4 = specmat_sliced_DR_pca[:,1].reshape(specmat_sliced.shape[0],specmat_sliced.shape[1])\n",
    "\n",
    "\n",
    "comb =  np.dstack((b1,b2,b3,b4))\n",
    "specmat_sliced_DR_comb = comb.reshape(specmat_sliced_mean.shape[0]*specmat_sliced_mean.shape[1],4)\n",
    "comb_df = pd.DataFrame(specmat_sliced_DR_comb, columns=['mean','std','pc1','pc2'])\n"
   ]
  },
  {
   "cell_type": "code",
   "execution_count": null,
   "metadata": {
    "ExecuteTime": {
     "end_time": "2020-08-10T08:05:51.189882Z",
     "start_time": "2020-08-10T08:05:33.014030Z"
    }
   },
   "outputs": [],
   "source": [
    "# %matplotlib notebook\n",
    "# %matplotlib notebook\n",
    "\n",
    "from mpl_toolkits.mplot3d import Axes3D\n",
    "\n",
    "fig = plt.figure()\n",
    "ax = Axes3D(fig)\n",
    "\n",
    "x=specmat_sliced_DR_comb[:,3].copy()\n",
    "y=specmat_sliced_DR_comb[:,1].copy()\n",
    "z=specmat_sliced_DR_comb[:,2].copy()\n",
    "ax.set_xlabel('PC 2')\n",
    "ax.set_ylabel('STD')\n",
    "ax.set_zlabel('PC 1')\n",
    "\n",
    "_=ax.scatter(x,y,z,s=0.1)\n"
   ]
  },
  {
   "cell_type": "code",
   "execution_count": null,
   "metadata": {
    "ExecuteTime": {
     "end_time": "2020-08-10T08:05:51.195866Z",
     "start_time": "2020-08-10T08:05:51.190839Z"
    }
   },
   "outputs": [],
   "source": [
    "%matplotlib inline"
   ]
  },
  {
   "cell_type": "markdown",
   "metadata": {},
   "source": [
    "### Combining Mean+std+PC[0:8]"
   ]
  },
  {
   "cell_type": "code",
   "execution_count": 12,
   "metadata": {
    "ExecuteTime": {
     "end_time": "2020-08-10T18:41:05.503157Z",
     "start_time": "2020-08-10T18:41:04.075938Z"
    }
   },
   "outputs": [
    {
     "name": "stdout",
     "output_type": "stream",
     "text": [
      "Shapre of the matrix :  (870504, 10)\n"
     ]
    }
   ],
   "source": [
    "b1 = specmat_sliced_mean\n",
    "b2 = specmat_sliced.std(axis=2)\n",
    "b3 = specmat_sliced_DR_pca[:,:8].reshape(specmat_sliced.shape[0],specmat_sliced.shape[1],8)\n",
    "\n",
    "\n",
    "combstrt1 =  np.dstack((b1,b2,b3))\n",
    "specmat_sliced_DR_combstrt1 = combstrt1.reshape(specmat_sliced_mean.shape[0]*specmat_sliced_mean.shape[1],10)\n",
    "combstrt1_df = pd.DataFrame(specmat_sliced_DR_combstrt1, columns=['mean','std','pc1','pc2',\n",
    "                                                                    'pc3','pc4','pc5','pc6',\n",
    "                                                                    'pc7','pc8'])\n",
    "\n",
    "print('Shapre of the matrix : ', specmat_sliced_DR_combstrt1.shape)"
   ]
  },
  {
   "cell_type": "code",
   "execution_count": null,
   "metadata": {
    "ExecuteTime": {
     "end_time": "2020-08-10T15:20:22.865838Z",
     "start_time": "2020-08-10T15:20:22.525664Z"
    },
    "scrolled": true
   },
   "outputs": [],
   "source": [
    "helperHandler.imgN_show(combstrt1.mean(axis=2).T)"
   ]
  },
  {
   "cell_type": "code",
   "execution_count": null,
   "metadata": {
    "ExecuteTime": {
     "end_time": "2020-08-10T15:20:22.871821Z",
     "start_time": "2020-08-10T15:20:22.866836Z"
    }
   },
   "outputs": [],
   "source": []
  },
  {
   "cell_type": "markdown",
   "metadata": {
    "heading_collapsed": true
   },
   "source": [
    "### Autoencoders"
   ]
  },
  {
   "cell_type": "code",
   "execution_count": null,
   "metadata": {
    "hidden": true
   },
   "outputs": [],
   "source": []
  },
  {
   "cell_type": "markdown",
   "metadata": {
    "heading_collapsed": true
   },
   "source": [
    "### SOM"
   ]
  },
  {
   "cell_type": "code",
   "execution_count": null,
   "metadata": {
    "hidden": true
   },
   "outputs": [],
   "source": []
  },
  {
   "cell_type": "code",
   "execution_count": null,
   "metadata": {
    "hidden": true
   },
   "outputs": [],
   "source": []
  },
  {
   "cell_type": "markdown",
   "metadata": {
    "heading_collapsed": true
   },
   "source": [
    "## Unsupervised Clustering"
   ]
  },
  {
   "cell_type": "code",
   "execution_count": null,
   "metadata": {
    "ExecuteTime": {
     "end_time": "2020-08-10T15:20:54.304322Z",
     "start_time": "2020-08-10T15:20:53.449608Z"
    },
    "hidden": true
   },
   "outputs": [],
   "source": [
    "dr_mode = 'combstrt1'\n",
    "matrix_X = specmat_sliced_DR_combstrt1.copy() # Matrix to cluster, must be 2 dimensional\n",
    "matrix = combstrt1_df.copy()\n",
    "print('No of no similar elements :', sum(sum(matrix.values != matrix_X)))\n",
    "\n",
    "print('Shape of the matrix : ', matrix.shape)\n",
    "print('Shape of the feature matrix : ', matrix_X.shape)\n",
    "print('Dimensionality Reduction Mode : ', dr_mode)"
   ]
  },
  {
   "cell_type": "markdown",
   "metadata": {
    "heading_collapsed": true,
    "hidden": true
   },
   "source": [
    "### kMeans"
   ]
  },
  {
   "cell_type": "code",
   "execution_count": null,
   "metadata": {
    "ExecuteTime": {
     "end_time": "2020-08-10T15:24:31.760413Z",
     "start_time": "2020-08-10T15:21:19.594997Z"
    },
    "hidden": true
   },
   "outputs": [],
   "source": [
    "%matplotlib inline\n",
    "clst_mode = 'kmeans'\n",
    "kmeans_intertia_dict = {}\n",
    "clusters = [k for k in range(1,10)]\n",
    "for i in tqdm(clusters):\n",
    "    km = KMeans(n_clusters=i)\n",
    "    km.fit(matrix_X)\n",
    "    kmeans_intertia_dict[i] = km.inertia_\n",
    "    _labels = km.predict(matrix_X)\n",
    "    matrix[dr_mode+'_'+clst_mode+f'_c{i}'] = _labels\n",
    "    all_classification_masks[dr_mode+'_'+clst_mode+f'_c{i}'] = _labels.reshape(specmat_sliced.shape[0], \n",
    "                                                                               specmat_sliced.shape[1])\n",
    "\n",
    "helperHandler.plot_elbow(measures = list(kmeans_intertia_dict.values()),\n",
    "                            clust = clusters)"
   ]
  },
  {
   "cell_type": "code",
   "execution_count": null,
   "metadata": {
    "ExecuteTime": {
     "end_time": "2020-08-10T15:56:30.230094Z",
     "start_time": "2020-08-10T15:56:30.110428Z"
    },
    "hidden": true
   },
   "outputs": [],
   "source": [
    "helperHandler.imgN_show([all_classification_masks['combstrt1_kmeans_c6'].T])"
   ]
  },
  {
   "cell_type": "code",
   "execution_count": null,
   "metadata": {
    "ExecuteTime": {
     "end_time": "2020-08-10T14:44:10.893222Z",
     "start_time": "2020-08-10T14:44:10.886221Z"
    },
    "hidden": true
   },
   "outputs": [],
   "source": []
  },
  {
   "cell_type": "markdown",
   "metadata": {
    "heading_collapsed": true,
    "hidden": true
   },
   "source": [
    "### GMM"
   ]
  },
  {
   "cell_type": "code",
   "execution_count": null,
   "metadata": {
    "ExecuteTime": {
     "end_time": "2020-08-10T15:31:55.036039Z",
     "start_time": "2020-08-10T15:24:31.762365Z"
    },
    "hidden": true
   },
   "outputs": [],
   "source": [
    "%matplotlib inline\n",
    "clst_mode = 'gmm'\n",
    "bic_scores = []\n",
    "clusters = [k for k in range(1,10)]\n",
    "for i in tqdm(clusters):\n",
    "    gmm_model = GaussianMixture(n_components=i)\n",
    "    _labels = gmm_model.fit_predict(matrix_X)\n",
    "    matrix[dr_mode+'_'+clst_mode+f'_c{i}'] = _labels\n",
    "    all_classification_masks[dr_mode+'_'+clst_mode+f'_c{i}'] = _labels.reshape(specmat_sliced.shape[0], \n",
    "                                                                               specmat_sliced.shape[1])\n",
    "    bic_scores.append(gmm_model.bic(matrix_X))\n",
    "    \n",
    "_=plt.plot(clusters,bic_scores)"
   ]
  },
  {
   "cell_type": "code",
   "execution_count": null,
   "metadata": {
    "ExecuteTime": {
     "end_time": "2020-08-10T15:57:03.624788Z",
     "start_time": "2020-08-10T15:57:03.502694Z"
    },
    "hidden": true
   },
   "outputs": [],
   "source": [
    "helperHandler.imgN_show([all_classification_masks['combstrt1_gmm_c6'].T])"
   ]
  },
  {
   "cell_type": "markdown",
   "metadata": {
    "heading_collapsed": true,
    "hidden": true
   },
   "source": [
    "### Hierarichal Clustering\n",
    "- Data too big"
   ]
  },
  {
   "cell_type": "code",
   "execution_count": null,
   "metadata": {
    "ExecuteTime": {
     "end_time": "2020-08-10T05:25:02.915527Z",
     "start_time": "2020-08-10T05:25:00.138532Z"
    },
    "hidden": true
   },
   "outputs": [],
   "source": [
    "\n",
    "%matplotlib inline\n",
    "clst_mode = 'agg_hierch'\n",
    "clusters = [k for k in range(1,10)]\n",
    "for i in tqdm(clusters):\n",
    "    aggc_model = AgglomerativeClustering(n_clusters=i)\n",
    "    _labels = aggc_model.fit_predict(matrix_X)\n",
    "    matrix[dr_mode+'_'+clst_mode+f'_c{i}'] = _labels\n",
    "    all_classification_masks[dr_mode+'_'+clst_mode+f'_c{i}'] = _labels.reshape(specmat_sliced.shape[0], \n",
    "                                                                               specmat_sliced.shape[1])\n",
    "    \n"
   ]
  },
  {
   "cell_type": "code",
   "execution_count": null,
   "metadata": {
    "hidden": true
   },
   "outputs": [],
   "source": []
  },
  {
   "cell_type": "code",
   "execution_count": null,
   "metadata": {
    "hidden": true
   },
   "outputs": [],
   "source": []
  },
  {
   "cell_type": "markdown",
   "metadata": {
    "heading_collapsed": true
   },
   "source": [
    "## Save Results"
   ]
  },
  {
   "cell_type": "code",
   "execution_count": null,
   "metadata": {
    "ExecuteTime": {
     "end_time": "2020-08-10T15:57:38.912561Z",
     "start_time": "2020-08-10T15:57:38.601783Z"
    },
    "hidden": true
   },
   "outputs": [],
   "source": [
    "# Which tileset is being processed\n",
    "os.makedirs(prepareddata_path+f'{_pths2[tileset_no]}/Clustering_Results/', exist_ok=True)\n",
    "\n",
    "for k,v in all_classification_masks.items():\n",
    "    if len(v)>0:\n",
    "        path = prepareddata_path+f'{_pths2[tileset_no]}/Clustering_Results/{k}.pkl'\n",
    "        np.save(path,v)\n"
   ]
  },
  {
   "cell_type": "markdown",
   "metadata": {},
   "source": [
    "# Result Analysis\n"
   ]
  },
  {
   "cell_type": "code",
   "execution_count": 13,
   "metadata": {
    "ExecuteTime": {
     "end_time": "2020-08-10T18:41:07.013559Z",
     "start_time": "2020-08-10T18:41:05.504122Z"
    }
   },
   "outputs": [],
   "source": [
    "# Load Mask data\n",
    "all_classification_masks = {}\n",
    "path = prepareddata_path+f'{_pths2[tileset_no]}/Clustering_Results/'\n",
    "for each in os.listdir(path):\n",
    "    maskname = each.split('.')[0]\n",
    "    all_classification_masks[maskname] = np.load(path+each)\n",
    "    "
   ]
  },
  {
   "cell_type": "markdown",
   "metadata": {},
   "source": [
    "**Sillihoute Score**"
   ]
  },
  {
   "cell_type": "code",
   "execution_count": 14,
   "metadata": {
    "ExecuteTime": {
     "end_time": "2020-08-10T18:44:23.313686Z",
     "start_time": "2020-08-10T18:41:07.015524Z"
    },
    "scrolled": true
   },
   "outputs": [
    {
     "name": "stdout",
     "output_type": "stream",
     "text": [
      "Unique Data Reductions : ['comb' 'combstrt1' 'mean' 'pca_100' 'pca_25' 'std']\n"
     ]
    },
    {
     "data": {
      "application/vnd.jupyter.widget-view+json": {
       "model_id": "daafc57a111442d7a039f5ab0bf080a4",
       "version_major": 2,
       "version_minor": 0
      },
      "text/plain": [
       "HBox(children=(FloatProgress(value=0.0, max=119.0), HTML(value='')))"
      ]
     },
     "metadata": {},
     "output_type": "display_data"
    },
    {
     "name": "stdout",
     "output_type": "stream",
     "text": [
      "\n"
     ]
    }
   ],
   "source": [
    "unique_data = np.unique([\"_\".join(k.split('_')[:-2]) for k in all_classification_masks.keys()])\n",
    "unique_models = np.unique([\"_\".join(k.split('_')[:-1]) for k in all_classification_masks.keys()])\n",
    "metricDF = pd.DataFrame(columns=unique_models)\n",
    "print('Unique Data Reductions :', unique_data)\n",
    "for eachkey, eachmask in tqdm(all_classification_masks.items()):\n",
    "    _clusters = re.search('_c(\\d+)', eachkey).group(1)\n",
    "    _drmode = \"_\".join(eachkey.split('_')[:-2]) \n",
    "    _drclstmode = \"_\".join(eachkey.split('_')[:-1])\n",
    "    if _drmode=='comb':\n",
    "        _X = specmat_sliced_DR_comb.copy()\n",
    "    elif _drmode=='combstrt1':\n",
    "        _X = specmat_sliced_DR_combstrt1.copy()\n",
    "    elif _drmode=='mean':\n",
    "        _X=specmat_sliced_DR_mean.copy()\n",
    "    elif _drmode=='pca_100':\n",
    "        _X = specmat_sliced_DR_pca.copy()\n",
    "    elif _drmode=='pca_25':\n",
    "        _X = specmat_sliced_DR_pca[:,:25].copy()        \n",
    "    elif _drmode=='std':\n",
    "        _X = b2.reshape(specmat_sliced.shape[0]*specmat_sliced.shape[1],1).copy()\n",
    "\n",
    "    _labels = all_classification_masks['mean_gmm_c9'].copy().ravel()\n",
    "    _sscore = silhouette_score(X=_X, labels=_labels, sample_size=10000)\n",
    "    metricDF.loc[_clusters,_drclstmode] = _sscore\n"
   ]
  },
  {
   "cell_type": "code",
   "execution_count": 15,
   "metadata": {
    "ExecuteTime": {
     "end_time": "2020-08-10T18:44:23.666246Z",
     "start_time": "2020-08-10T18:44:23.316645Z"
    }
   },
   "outputs": [
    {
     "data": {
      "image/png": "[encoded data removed]",
      "text/plain": [
       "<Figure size 1000x1000 with 2 Axes>"
      ]
     },
     "metadata": {
      "needs_background": "light"
     },
     "output_type": "display_data"
    }
   ],
   "source": [
    "helperHandler.imgN_show(specmat_sliced_mean.T)"
   ]
  },
  {
   "cell_type": "code",
   "execution_count": 16,
   "metadata": {
    "ExecuteTime": {
     "end_time": "2020-08-10T18:44:23.838160Z",
     "start_time": "2020-08-10T18:44:23.667243Z"
    }
   },
   "outputs": [
    {
     "data": {
      "image/png": "[encoded data removed]",
      "text/plain": [
       "<Figure size 1800x720 with 1 Axes>"
      ]
     },
     "metadata": {
      "needs_background": "light"
     },
     "output_type": "display_data"
    }
   ],
   "source": [
    "metricDF.iloc[:10,:].mean(axis=1).plot()\n",
    "plt.grid()"
   ]
  },
  {
   "cell_type": "code",
   "execution_count": 17,
   "metadata": {
    "ExecuteTime": {
     "end_time": "2020-08-10T18:44:23.876058Z",
     "start_time": "2020-08-10T18:44:23.842188Z"
    },
    "code_folding": [
     2,
     54,
     85
    ]
   },
   "outputs": [],
   "source": [
    "class HSClusterAnalysis:\n",
    "    \n",
    "    def __init__(self, spectral_data, spectral_img, class_masks:dict,):\n",
    "        \n",
    "        # Initialise Data\n",
    "        self.spectral_data = spectral_data.copy()\n",
    "        if spectral_img is None:\n",
    "            self.spectral_img = spectral_data.mean(axis=2).T\n",
    "        else:\n",
    "            self.spectral_img = spectral_img.T.copy()\n",
    "        self.img_h, self.img_w = self.spectral_img.shape\n",
    "        self.class_masks = class_masks\n",
    "        \n",
    "        # Initialise Figure parameters\n",
    "        plt.rcParams['figure.figsize'] = (13.5,12)\n",
    "        self.clsfig = plt.figure(constrained_layout=True)\n",
    "        spec = gridspec.GridSpec(ncols=4, nrows=6, figure=self.clsfig)\n",
    "        \n",
    "        self.f_ax0 = self.clsfig.add_subplot(spec[0, :]) # Image Tile\n",
    "        self.f_ax0c = self.clsfig.add_subplot(spec[1, :]) # Image Class Tile\n",
    "\n",
    "        self.f_ax10 = self.clsfig.add_subplot(spec[2, 0]) # Individual Algo slice plots\n",
    "        self.f_ax11 = self.clsfig.add_subplot(spec[2, 1]) # Individual Algo slice plots\n",
    "        self.f_ax12 = self.clsfig.add_subplot(spec[2, 2]) # Individual Algo slice plots\n",
    "        self.f_ax13 = self.clsfig.add_subplot(spec[2, 3]) # Individual Algo slice plots\n",
    "        \n",
    "        self.f_ax20 = self.clsfig.add_subplot(spec[3, 0]) # Individual Algo slice plots\n",
    "        self.f_ax21 = self.clsfig.add_subplot(spec[3, 1]) # Individual Algo slice plots\n",
    "        self.f_ax22 = self.clsfig.add_subplot(spec[3, 2]) # Individual Algo slice plots\n",
    "        self.f_ax23 = self.clsfig.add_subplot(spec[3, 3]) # Individual Algo slice plots\n",
    "\n",
    "        self.f_ax3 = self.clsfig.add_subplot(spec[-2:, :]) # Analysis plot\n",
    "\n",
    "        self.sq_axes = [self.f_ax10,  self.f_ax11, self.f_ax12, self.f_ax13,\n",
    "                        self.f_ax20, self.f_ax21, self.f_ax22, self.f_ax23]\n",
    "        self.axes_mapping = {k.upper():v for k,v in zip(class_masks.keys(), self.sq_axes)}\n",
    "\n",
    "        # Set titles\n",
    "        for eachtitle,eachax in self.axes_mapping.items():\n",
    "            eachax.set_title(eachtitle.upper(), fontsize=10)\n",
    "            \n",
    "        \n",
    "        self.prev_line_x, self.prev_line_y, self.specplt = [],[],None\n",
    "        self.retain_dict = {}\n",
    "        \n",
    "        # Prepare the masks images for each of the models\n",
    "        self.f_ax0.imshow(self.spectral_img,cmap='gray')\n",
    "        self.hoverpatch = Rectangle((0,0), self.img_h, self.img_h, alpha=0.5)\n",
    "        self.f_ax0.add_artist(self.hoverpatch)\n",
    "        \n",
    "        # Connect the event handlers to the plot\n",
    "        self.clsfig.canvas.mpl_connect('button_press_event', self.click_axes)\n",
    "        self.clsfig.canvas.mpl_connect('motion_notify_event', self.hover_axes)\n",
    "    \n",
    "    def click_axes(self, event):\n",
    "        x_pixel, y_pixel = int(event.xdata), int(event.ydata)\n",
    "\n",
    "        if event.inaxes == self.f_ax0:\n",
    "            ax=event.inaxes\n",
    "            if self.hoverpatch != None:\n",
    "                self.hoverpatch.remove()\n",
    "                \n",
    "            if int(x_pixel)>self.img_h/2 and int(x_pixel)<self.img_w - self.img_h/2:\n",
    "                hvr_x = int(x_pixel)-self.img_h/2\n",
    "            elif int(x_pixel)<=self.img_h/2:\n",
    "                hvr_x = 0\n",
    "            elif int(x_pixel)>=self.img_w - self.img_h:\n",
    "                hvr_x = self.img_w - self.img_h\n",
    "    \n",
    "            self.hoverpatch = Rectangle((hvr_x,0), self.img_h, self.img_h, alpha=0.5)\n",
    "            self.f_ax0.add_artist(self.hoverpatch)\n",
    "            \n",
    "            self.x_slc1 = int(hvr_x)\n",
    "            self.x_slc2 = int(hvr_x+self.img_h)\n",
    "\n",
    "            for modelname, modelmask in self.class_masks.items():\n",
    "                _name = modelname.upper()\n",
    "                if len(modelmask) > 0:\n",
    "                    ax=self.axes_mapping[_name]\n",
    "                    if ax.images != []:\n",
    "                        for eachImg in ax.images:\n",
    "                            eachImg.remove()\n",
    "                    _data = modelmask.T[:,self.x_slc1:self.x_slc2].copy()\n",
    "                    ax.imshow(_data,cmap='prism')\n",
    "    \n",
    "    def hover_axes(self, event):\n",
    "        x_pixel, y_pixel = int(event.xdata), int(event.ydata)\n",
    "\n",
    "        if event.inaxes in list(self.axes_mapping.values()):\n",
    "            ax=event.inaxes\n",
    "            if ax.images != []:\n",
    "                for eachl in self.prev_line_x:\n",
    "                    eachl.remove()\n",
    "                for eachl in self.prev_line_y:\n",
    "                    eachl.remove()\n",
    "\n",
    "                self.prev_line_x = []\n",
    "                self.prev_line_y = []\n",
    "\n",
    "                if self.specplt != None:\n",
    "                    self.specplt[0].remove()\n",
    "\n",
    "                for emt,emx in self.axes_mapping.items():\n",
    "                    if emx.images != []:\n",
    "                        temp=emx.vlines(x_pixel,0,self.img_h-2,color='k',linewidth=1.5,linestyle='-.')\n",
    "                        self.prev_line_x.append(temp)\n",
    "                        temp=emx.hlines(y_pixel,0,self.img_h-2,color='k',linewidth=1.5,linestyle='-.')\n",
    "                        self.prev_line_y.append(temp)\n",
    "\n",
    "                spectral_data = self.spectral_data[self.x_slc1+x_pixel,y_pixel,:]\n",
    "                self.specplt = self.f_ax3.plot(spectral_data)\n",
    "                _title=''\n",
    "                for k,v in self.axes_mapping.items():\n",
    "                    if v == ax: \n",
    "                        _title = k\n",
    "                        # Update the f_ax0 with similar class\n",
    "                        if len(self.f_ax0c.images)==2:\n",
    "                            self.f_ax0c.images[-1].remove()\n",
    "                        _hover_class = self.class_masks[_title.lower()][self.x_slc1+x_pixel,y_pixel]\n",
    "                        single_class_mask = self.class_masks[_title.lower()]==_hover_class\n",
    "                        self.f_ax0c.imshow(single_class_mask.T, cmap='gray', alpha=1)\n",
    "                self.f_ax3.set_title(_title, fontsize=12)\n",
    "                \n",
    "idx=0"
   ]
  },
  {
   "cell_type": "code",
   "execution_count": null,
   "metadata": {
    "ExecuteTime": {
     "end_time": "2020-08-10T17:59:48.087498Z",
     "start_time": "2020-08-10T17:59:48.081512Z"
    }
   },
   "outputs": [],
   "source": [
    "# #TILESET 1\n",
    "# selected_masks = {k:all_classification_masks[k] for k in ['comb_gmm_c9', 'comb_gmm_c8']}\n",
    "# np.save('tileset1_selected_masks.npy',selected_masks)"
   ]
  },
  {
   "cell_type": "code",
   "execution_count": null,
   "metadata": {
    "ExecuteTime": {
     "end_time": "2020-08-10T18:34:26.568798Z",
     "start_time": "2020-08-10T18:34:26.549814Z"
    }
   },
   "outputs": [],
   "source": [
    "# #TILESET 2\n",
    "# t2 = ['combstrt1_gmm_c5', 'pca_100_kmeans_c6']\n",
    "# selected_masks = {k:all_classification_masks[k] for k in t2}\n",
    "# np.save('tileset2_selected_masks.npy',selected_masks)"
   ]
  },
  {
   "cell_type": "code",
   "execution_count": 56,
   "metadata": {
    "ExecuteTime": {
     "end_time": "2020-08-10T19:03:05.376997Z",
     "start_time": "2020-08-10T19:03:05.357056Z"
    }
   },
   "outputs": [],
   "source": [
    "#TILESET 3\n",
    "t3 = ['combstrt1_gmm_c5', 'combstrt1_gmm_c6']\n",
    "selected_masks = {k:all_classification_masks[k] for k in t3}\n",
    "np.save('tileset3_selected_masks.npy',selected_masks)"
   ]
  },
  {
   "cell_type": "code",
   "execution_count": 54,
   "metadata": {
    "ExecuteTime": {
     "end_time": "2020-08-10T19:01:37.824175Z",
     "start_time": "2020-08-10T19:01:37.820221Z"
    }
   },
   "outputs": [],
   "source": [
    "# selected_masks = {k:all_classification_masks[k] for k in list(all_classification_masks.keys())[idx*8:(idx+1)*8]}\n",
    "# idx+=1\n",
    "# print(selected_masks.keys())"
   ]
  },
  {
   "cell_type": "code",
   "execution_count": 57,
   "metadata": {
    "ExecuteTime": {
     "end_time": "2020-08-10T19:03:08.140620Z",
     "start_time": "2020-08-10T19:03:07.873295Z"
    },
    "scrolled": false
   },
   "outputs": [
    {
     "data": {
      "application/javascript": [
       "/* Put everything inside the global mpl namespace */\n",
       "window.mpl = {};\n",
       "\n",
       "\n",
       "mpl.get_websocket_type = function() {\n",
       "    if (typeof(WebSocket) !== 'undefined') {\n",
       "        return WebSocket;\n",
       "    } else if (typeof(MozWebSocket) !== 'undefined') {\n",
       "        return MozWebSocket;\n",
       "    } else {\n",
       "        alert('Your browser does not have WebSocket support. ' +\n",
       "              'Please try Chrome, Safari or Firefox ≥ 6. ' +\n",
       "              'Firefox 4 and 5 are also supported but you ' +\n",
       "              'have to enable WebSockets in about:config.');\n",
       "    };\n",
       "}\n",
       "\n",
       "mpl.figure = function(figure_id, websocket, ondownload, parent_element) {\n",
       "    this.id = figure_id;\n",
       "\n",
       "    this.ws = websocket;\n",
       "\n",
       "    this.supports_binary = (this.ws.binaryType != undefined);\n",
       "\n",
       "    if (!this.supports_binary) {\n",
       "        var warnings = document.getElementById(\"mpl-warnings\");\n",
       "        if (warnings) {\n",
       "            warnings.style.display = 'block';\n",
       "            warnings.textContent = (\n",
       "                \"This browser does not support binary websocket messages. \" +\n",
       "                    \"Performance may be slow.\");\n",
       "        }\n",
       "    }\n",
       "\n",
       "    this.imageObj = new Image();\n",
       "\n",
       "    this.context = undefined;\n",
       "    this.message = undefined;\n",
       "    this.canvas = undefined;\n",
       "    this.rubberband_canvas = undefined;\n",
       "    this.rubberband_context = undefined;\n",
       "    this.format_dropdown = undefined;\n",
       "\n",
       "    this.image_mode = 'full';\n",
       "\n",
       "    this.root = $('<div/>');\n",
       "    this._root_extra_style(this.root)\n",
       "    this.root.attr('style', 'display: inline-block');\n",
       "\n",
       "    $(parent_element).append(this.root);\n",
       "\n",
       "    this._init_header(this);\n",
       "    this._init_canvas(this);\n",
       "    this._init_toolbar(this);\n",
       "\n",
       "    var fig = this;\n",
       "\n",
       "    this.waiting = false;\n",
       "\n",
       "    this.ws.onopen =  function () {\n",
       "            fig.send_message(\"supports_binary\", {value: fig.supports_binary});\n",
       "            fig.send_message(\"send_image_mode\", {});\n",
       "            if (mpl.ratio != 1) {\n",
       "                fig.send_message(\"set_dpi_ratio\", {'dpi_ratio': mpl.ratio});\n",
       "            }\n",
       "            fig.send_message(\"refresh\", {});\n",
       "        }\n",
       "\n",
       "    this.imageObj.onload = function() {\n",
       "            if (fig.image_mode == 'full') {\n",
       "                // Full images could contain transparency (where diff images\n",
       "                // almost always do), so we need to clear the canvas so that\n",
       "                // there is no ghosting.\n",
       "                fig.context.clearRect(0, 0, fig.canvas.width, fig.canvas.height);\n",
       "            }\n",
       "            fig.context.drawImage(fig.imageObj, 0, 0);\n",
       "        };\n",
       "\n",
       "    this.imageObj.onunload = function() {\n",
       "        fig.ws.close();\n",
       "    }\n",
       "\n",
       "    this.ws.onmessage = this._make_on_message_function(this);\n",
       "\n",
       "    this.ondownload = ondownload;\n",
       "}\n",
       "\n",
       "mpl.figure.prototype._init_header = function() {\n",
       "    var titlebar = $(\n",
       "        '<div class=\"ui-dialog-titlebar ui-widget-header ui-corner-all ' +\n",
       "        'ui-helper-clearfix\"/>');\n",
       "    var titletext = $(\n",
       "        '<div class=\"ui-dialog-title\" style=\"width: 100%; ' +\n",
       "        'text-align: center; padding: 3px;\"/>');\n",
       "    titlebar.append(titletext)\n",
       "    this.root.append(titlebar);\n",
       "    this.header = titletext[0];\n",
       "}\n",
       "\n",
       "\n",
       "\n",
       "mpl.figure.prototype._canvas_extra_style = function(canvas_div) {\n",
       "\n",
       "}\n",
       "\n",
       "\n",
       "mpl.figure.prototype._root_extra_style = function(canvas_div) {\n",
       "\n",
       "}\n",
       "\n",
       "mpl.figure.prototype._init_canvas = function() {\n",
       "    var fig = this;\n",
       "\n",
       "    var canvas_div = $('<div/>');\n",
       "\n",
       "    canvas_div.attr('style', 'position: relative; clear: both; outline: 0');\n",
       "\n",
       "    function canvas_keyboard_event(event) {\n",
       "        return fig.key_event(event, event['data']);\n",
       "    }\n",
       "\n",
       "    canvas_div.keydown('key_press', canvas_keyboard_event);\n",
       "    canvas_div.keyup('key_release', canvas_keyboard_event);\n",
       "    this.canvas_div = canvas_div\n",
       "    this._canvas_extra_style(canvas_div)\n",
       "    this.root.append(canvas_div);\n",
       "\n",
       "    var canvas = $('<canvas/>');\n",
       "    canvas.addClass('mpl-canvas');\n",
       "    canvas.attr('style', \"left: 0; top: 0; z-index: 0; outline: 0\")\n",
       "\n",
       "    this.canvas = canvas[0];\n",
       "    this.context = canvas[0].getContext(\"2d\");\n",
       "\n",
       "    var backingStore = this.context.backingStorePixelRatio ||\n",
       "\tthis.context.webkitBackingStorePixelRatio ||\n",
       "\tthis.context.mozBackingStorePixelRatio ||\n",
       "\tthis.context.msBackingStorePixelRatio ||\n",
       "\tthis.context.oBackingStorePixelRatio ||\n",
       "\tthis.context.backingStorePixelRatio || 1;\n",
       "\n",
       "    mpl.ratio = (window.devicePixelRatio || 1) / backingStore;\n",
       "\n",
       "    var rubberband = $('<canvas/>');\n",
       "    rubberband.attr('style', \"position: absolute; left: 0; top: 0; z-index: 1;\")\n",
       "\n",
       "    var pass_mouse_events = true;\n",
       "\n",
       "    canvas_div.resizable({\n",
       "        start: function(event, ui) {\n",
       "            pass_mouse_events = false;\n",
       "        },\n",
       "        resize: function(event, ui) {\n",
       "            fig.request_resize(ui.size.width, ui.size.height);\n",
       "        },\n",
       "        stop: function(event, ui) {\n",
       "            pass_mouse_events = true;\n",
       "            fig.request_resize(ui.size.width, ui.size.height);\n",
       "        },\n",
       "    });\n",
       "\n",
       "    function mouse_event_fn(event) {\n",
       "        if (pass_mouse_events)\n",
       "            return fig.mouse_event(event, event['data']);\n",
       "    }\n",
       "\n",
       "    rubberband.mousedown('button_press', mouse_event_fn);\n",
       "    rubberband.mouseup('button_release', mouse_event_fn);\n",
       "    // Throttle sequential mouse events to 1 every 20ms.\n",
       "    rubberband.mousemove('motion_notify', mouse_event_fn);\n",
       "\n",
       "    rubberband.mouseenter('figure_enter', mouse_event_fn);\n",
       "    rubberband.mouseleave('figure_leave', mouse_event_fn);\n",
       "\n",
       "    canvas_div.on(\"wheel\", function (event) {\n",
       "        event = event.originalEvent;\n",
       "        event['data'] = 'scroll'\n",
       "        if (event.deltaY < 0) {\n",
       "            event.step = 1;\n",
       "        } else {\n",
       "            event.step = -1;\n",
       "        }\n",
       "        mouse_event_fn(event);\n",
       "    });\n",
       "\n",
       "    canvas_div.append(canvas);\n",
       "    canvas_div.append(rubberband);\n",
       "\n",
       "    this.rubberband = rubberband;\n",
       "    this.rubberband_canvas = rubberband[0];\n",
       "    this.rubberband_context = rubberband[0].getContext(\"2d\");\n",
       "    this.rubberband_context.strokeStyle = \"#000000\";\n",
       "\n",
       "    this._resize_canvas = function(width, height) {\n",
       "        // Keep the size of the canvas, canvas container, and rubber band\n",
       "        // canvas in synch.\n",
       "        canvas_div.css('width', width)\n",
       "        canvas_div.css('height', height)\n",
       "\n",
       "        canvas.attr('width', width * mpl.ratio);\n",
       "        canvas.attr('height', height * mpl.ratio);\n",
       "        canvas.attr('style', 'width: ' + width + 'px; height: ' + height + 'px;');\n",
       "\n",
       "        rubberband.attr('width', width);\n",
       "        rubberband.attr('height', height);\n",
       "    }\n",
       "\n",
       "    // Set the figure to an initial 600x600px, this will subsequently be updated\n",
       "    // upon first draw.\n",
       "    this._resize_canvas(600, 600);\n",
       "\n",
       "    // Disable right mouse context menu.\n",
       "    $(this.rubberband_canvas).bind(\"contextmenu\",function(e){\n",
       "        return false;\n",
       "    });\n",
       "\n",
       "    function set_focus () {\n",
       "        canvas.focus();\n",
       "        canvas_div.focus();\n",
       "    }\n",
       "\n",
       "    window.setTimeout(set_focus, 100);\n",
       "}\n",
       "\n",
       "mpl.figure.prototype._init_toolbar = function() {\n",
       "    var fig = this;\n",
       "\n",
       "    var nav_element = $('<div/>');\n",
       "    nav_element.attr('style', 'width: 100%');\n",
       "    this.root.append(nav_element);\n",
       "\n",
       "    // Define a callback function for later on.\n",
       "    function toolbar_event(event) {\n",
       "        return fig.toolbar_button_onclick(event['data']);\n",
       "    }\n",
       "    function toolbar_mouse_event(event) {\n",
       "        return fig.toolbar_button_onmouseover(event['data']);\n",
       "    }\n",
       "\n",
       "    for(var toolbar_ind in mpl.toolbar_items) {\n",
       "        var name = mpl.toolbar_items[toolbar_ind][0];\n",
       "        var tooltip = mpl.toolbar_items[toolbar_ind][1];\n",
       "        var image = mpl.toolbar_items[toolbar_ind][2];\n",
       "        var method_name = mpl.toolbar_items[toolbar_ind][3];\n",
       "\n",
       "        if (!name) {\n",
       "            // put a spacer in here.\n",
       "            continue;\n",
       "        }\n",
       "        var button = $('<button/>');\n",
       "        button.addClass('ui-button ui-widget ui-state-default ui-corner-all ' +\n",
       "                        'ui-button-icon-only');\n",
       "        button.attr('role', 'button');\n",
       "        button.attr('aria-disabled', 'false');\n",
       "        button.click(method_name, toolbar_event);\n",
       "        button.mouseover(tooltip, toolbar_mouse_event);\n",
       "\n",
       "        var icon_img = $('<span/>');\n",
       "        icon_img.addClass('ui-button-icon-primary ui-icon');\n",
       "        icon_img.addClass(image);\n",
       "        icon_img.addClass('ui-corner-all');\n",
       "\n",
       "        var tooltip_span = $('<span/>');\n",
       "        tooltip_span.addClass('ui-button-text');\n",
       "        tooltip_span.html(tooltip);\n",
       "\n",
       "        button.append(icon_img);\n",
       "        button.append(tooltip_span);\n",
       "\n",
       "        nav_element.append(button);\n",
       "    }\n",
       "\n",
       "    var fmt_picker_span = $('<span/>');\n",
       "\n",
       "    var fmt_picker = $('<select/>');\n",
       "    fmt_picker.addClass('mpl-toolbar-option ui-widget ui-widget-content');\n",
       "    fmt_picker_span.append(fmt_picker);\n",
       "    nav_element.append(fmt_picker_span);\n",
       "    this.format_dropdown = fmt_picker[0];\n",
       "\n",
       "    for (var ind in mpl.extensions) {\n",
       "        var fmt = mpl.extensions[ind];\n",
       "        var option = $(\n",
       "            '<option/>', {selected: fmt === mpl.default_extension}).html(fmt);\n",
       "        fmt_picker.append(option);\n",
       "    }\n",
       "\n",
       "    // Add hover states to the ui-buttons\n",
       "    $( \".ui-button\" ).hover(\n",
       "        function() { $(this).addClass(\"ui-state-hover\");},\n",
       "        function() { $(this).removeClass(\"ui-state-hover\");}\n",
       "    );\n",
       "\n",
       "    var status_bar = $('<span class=\"mpl-message\"/>');\n",
       "    nav_element.append(status_bar);\n",
       "    this.message = status_bar[0];\n",
       "}\n",
       "\n",
       "mpl.figure.prototype.request_resize = function(x_pixels, y_pixels) {\n",
       "    // Request matplotlib to resize the figure. Matplotlib will then trigger a resize in the client,\n",
       "    // which will in turn request a refresh of the image.\n",
       "    this.send_message('resize', {'width': x_pixels, 'height': y_pixels});\n",
       "}\n",
       "\n",
       "mpl.figure.prototype.send_message = function(type, properties) {\n",
       "    properties['type'] = type;\n",
       "    properties['figure_id'] = this.id;\n",
       "    this.ws.send(JSON.stringify(properties));\n",
       "}\n",
       "\n",
       "mpl.figure.prototype.send_draw_message = function() {\n",
       "    if (!this.waiting) {\n",
       "        this.waiting = true;\n",
       "        this.ws.send(JSON.stringify({type: \"draw\", figure_id: this.id}));\n",
       "    }\n",
       "}\n",
       "\n",
       "\n",
       "mpl.figure.prototype.handle_save = function(fig, msg) {\n",
       "    var format_dropdown = fig.format_dropdown;\n",
       "    var format = format_dropdown.options[format_dropdown.selectedIndex].value;\n",
       "    fig.ondownload(fig, format);\n",
       "}\n",
       "\n",
       "\n",
       "mpl.figure.prototype.handle_resize = function(fig, msg) {\n",
       "    var size = msg['size'];\n",
       "    if (size[0] != fig.canvas.width || size[1] != fig.canvas.height) {\n",
       "        fig._resize_canvas(size[0], size[1]);\n",
       "        fig.send_message(\"refresh\", {});\n",
       "    };\n",
       "}\n",
       "\n",
       "mpl.figure.prototype.handle_rubberband = function(fig, msg) {\n",
       "    var x0 = msg['x0'] / mpl.ratio;\n",
       "    var y0 = (fig.canvas.height - msg['y0']) / mpl.ratio;\n",
       "    var x1 = msg['x1'] / mpl.ratio;\n",
       "    var y1 = (fig.canvas.height - msg['y1']) / mpl.ratio;\n",
       "    x0 = Math.floor(x0) + 0.5;\n",
       "    y0 = Math.floor(y0) + 0.5;\n",
       "    x1 = Math.floor(x1) + 0.5;\n",
       "    y1 = Math.floor(y1) + 0.5;\n",
       "    var min_x = Math.min(x0, x1);\n",
       "    var min_y = Math.min(y0, y1);\n",
       "    var width = Math.abs(x1 - x0);\n",
       "    var height = Math.abs(y1 - y0);\n",
       "\n",
       "    fig.rubberband_context.clearRect(\n",
       "        0, 0, fig.canvas.width / mpl.ratio, fig.canvas.height / mpl.ratio);\n",
       "\n",
       "    fig.rubberband_context.strokeRect(min_x, min_y, width, height);\n",
       "}\n",
       "\n",
       "mpl.figure.prototype.handle_figure_label = function(fig, msg) {\n",
       "    // Updates the figure title.\n",
       "    fig.header.textContent = msg['label'];\n",
       "}\n",
       "\n",
       "mpl.figure.prototype.handle_cursor = function(fig, msg) {\n",
       "    var cursor = msg['cursor'];\n",
       "    switch(cursor)\n",
       "    {\n",
       "    case 0:\n",
       "        cursor = 'pointer';\n",
       "        break;\n",
       "    case 1:\n",
       "        cursor = 'default';\n",
       "        break;\n",
       "    case 2:\n",
       "        cursor = 'crosshair';\n",
       "        break;\n",
       "    case 3:\n",
       "        cursor = 'move';\n",
       "        break;\n",
       "    }\n",
       "    fig.rubberband_canvas.style.cursor = cursor;\n",
       "}\n",
       "\n",
       "mpl.figure.prototype.handle_message = function(fig, msg) {\n",
       "    fig.message.textContent = msg['message'];\n",
       "}\n",
       "\n",
       "mpl.figure.prototype.handle_draw = function(fig, msg) {\n",
       "    // Request the server to send over a new figure.\n",
       "    fig.send_draw_message();\n",
       "}\n",
       "\n",
       "mpl.figure.prototype.handle_image_mode = function(fig, msg) {\n",
       "    fig.image_mode = msg['mode'];\n",
       "}\n",
       "\n",
       "mpl.figure.prototype.updated_canvas_event = function() {\n",
       "    // Called whenever the canvas gets updated.\n",
       "    this.send_message(\"ack\", {});\n",
       "}\n",
       "\n",
       "// A function to construct a web socket function for onmessage handling.\n",
       "// Called in the figure constructor.\n",
       "mpl.figure.prototype._make_on_message_function = function(fig) {\n",
       "    return function socket_on_message(evt) {\n",
       "        if (evt.data instanceof Blob) {\n",
       "            /* FIXME: We get \"Resource interpreted as Image but\n",
       "             * transferred with MIME type text/plain:\" errors on\n",
       "             * Chrome.  But how to set the MIME type?  It doesn't seem\n",
       "             * to be part of the websocket stream */\n",
       "            evt.data.type = \"image/png\";\n",
       "\n",
       "            /* Free the memory for the previous frames */\n",
       "            if (fig.imageObj.src) {\n",
       "                (window.URL || window.webkitURL).revokeObjectURL(\n",
       "                    fig.imageObj.src);\n",
       "            }\n",
       "\n",
       "            fig.imageObj.src = (window.URL || window.webkitURL).createObjectURL(\n",
       "                evt.data);\n",
       "            fig.updated_canvas_event();\n",
       "            fig.waiting = false;\n",
       "            return;\n",
       "        }\n",
       "        else if (typeof evt.data === 'string' && evt.data.slice(0, 21) == \"data:image/png;base64\") {\n",
       "            fig.imageObj.src = evt.data;\n",
       "            fig.updated_canvas_event();\n",
       "            fig.waiting = false;\n",
       "            return;\n",
       "        }\n",
       "\n",
       "        var msg = JSON.parse(evt.data);\n",
       "        var msg_type = msg['type'];\n",
       "\n",
       "        // Call the  \"handle_{type}\" callback, which takes\n",
       "        // the figure and JSON message as its only arguments.\n",
       "        try {\n",
       "            var callback = fig[\"handle_\" + msg_type];\n",
       "        } catch (e) {\n",
       "            console.log(\"No handler for the '\" + msg_type + \"' message type: \", msg);\n",
       "            return;\n",
       "        }\n",
       "\n",
       "        if (callback) {\n",
       "            try {\n",
       "                // console.log(\"Handling '\" + msg_type + \"' message: \", msg);\n",
       "                callback(fig, msg);\n",
       "            } catch (e) {\n",
       "                console.log(\"Exception inside the 'handler_\" + msg_type + \"' callback:\", e, e.stack, msg);\n",
       "            }\n",
       "        }\n",
       "    };\n",
       "}\n",
       "\n",
       "// from http://stackoverflow.com/questions/1114465/getting-mouse-location-in-canvas\n",
       "mpl.findpos = function(e) {\n",
       "    //this section is from http://www.quirksmode.org/js/events_properties.html\n",
       "    var targ;\n",
       "    if (!e)\n",
       "        e = window.event;\n",
       "    if (e.target)\n",
       "        targ = e.target;\n",
       "    else if (e.srcElement)\n",
       "        targ = e.srcElement;\n",
       "    if (targ.nodeType == 3) // defeat Safari bug\n",
       "        targ = targ.parentNode;\n",
       "\n",
       "    // jQuery normalizes the pageX and pageY\n",
       "    // pageX,Y are the mouse positions relative to the document\n",
       "    // offset() returns the position of the element relative to the document\n",
       "    var x = e.pageX - $(targ).offset().left;\n",
       "    var y = e.pageY - $(targ).offset().top;\n",
       "\n",
       "    return {\"x\": x, \"y\": y};\n",
       "};\n",
       "\n",
       "/*\n",
       " * return a copy of an object with only non-object keys\n",
       " * we need this to avoid circular references\n",
       " * http://stackoverflow.com/a/24161582/3208463\n",
       " */\n",
       "function simpleKeys (original) {\n",
       "  return Object.keys(original).reduce(function (obj, key) {\n",
       "    if (typeof original[key] !== 'object')\n",
       "        obj[key] = original[key]\n",
       "    return obj;\n",
       "  }, {});\n",
       "}\n",
       "\n",
       "mpl.figure.prototype.mouse_event = function(event, name) {\n",
       "    var canvas_pos = mpl.findpos(event)\n",
       "\n",
       "    if (name === 'button_press')\n",
       "    {\n",
       "        this.canvas.focus();\n",
       "        this.canvas_div.focus();\n",
       "    }\n",
       "\n",
       "    var x = canvas_pos.x * mpl.ratio;\n",
       "    var y = canvas_pos.y * mpl.ratio;\n",
       "\n",
       "    this.send_message(name, {x: x, y: y, button: event.button,\n",
       "                             step: event.step,\n",
       "                             guiEvent: simpleKeys(event)});\n",
       "\n",
       "    /* This prevents the web browser from automatically changing to\n",
       "     * the text insertion cursor when the button is pressed.  We want\n",
       "     * to control all of the cursor setting manually through the\n",
       "     * 'cursor' event from matplotlib */\n",
       "    event.preventDefault();\n",
       "    return false;\n",
       "}\n",
       "\n",
       "mpl.figure.prototype._key_event_extra = function(event, name) {\n",
       "    // Handle any extra behaviour associated with a key event\n",
       "}\n",
       "\n",
       "mpl.figure.prototype.key_event = function(event, name) {\n",
       "\n",
       "    // Prevent repeat events\n",
       "    if (name == 'key_press')\n",
       "    {\n",
       "        if (event.which === this._key)\n",
       "            return;\n",
       "        else\n",
       "            this._key = event.which;\n",
       "    }\n",
       "    if (name == 'key_release')\n",
       "        this._key = null;\n",
       "\n",
       "    var value = '';\n",
       "    if (event.ctrlKey && event.which != 17)\n",
       "        value += \"ctrl+\";\n",
       "    if (event.altKey && event.which != 18)\n",
       "        value += \"alt+\";\n",
       "    if (event.shiftKey && event.which != 16)\n",
       "        value += \"shift+\";\n",
       "\n",
       "    value += 'k';\n",
       "    value += event.which.toString();\n",
       "\n",
       "    this._key_event_extra(event, name);\n",
       "\n",
       "    this.send_message(name, {key: value,\n",
       "                             guiEvent: simpleKeys(event)});\n",
       "    return false;\n",
       "}\n",
       "\n",
       "mpl.figure.prototype.toolbar_button_onclick = function(name) {\n",
       "    if (name == 'download') {\n",
       "        this.handle_save(this, null);\n",
       "    } else {\n",
       "        this.send_message(\"toolbar_button\", {name: name});\n",
       "    }\n",
       "};\n",
       "\n",
       "mpl.figure.prototype.toolbar_button_onmouseover = function(tooltip) {\n",
       "    this.message.textContent = tooltip;\n",
       "};\n",
       "mpl.toolbar_items = [[\"Home\", \"Reset original view\", \"fa fa-home icon-home\", \"home\"], [\"Back\", \"Back to previous view\", \"fa fa-arrow-left icon-arrow-left\", \"back\"], [\"Forward\", \"Forward to next view\", \"fa fa-arrow-right icon-arrow-right\", \"forward\"], [\"\", \"\", \"\", \"\"], [\"Pan\", \"Pan axes with left mouse, zoom with right\", \"fa fa-arrows icon-move\", \"pan\"], [\"Zoom\", \"Zoom to rectangle\", \"fa fa-square-o icon-check-empty\", \"zoom\"], [\"\", \"\", \"\", \"\"], [\"Download\", \"Download plot\", \"fa fa-floppy-o icon-save\", \"download\"]];\n",
       "\n",
       "mpl.extensions = [\"eps\", \"jpeg\", \"pdf\", \"png\", \"ps\", \"raw\", \"svg\", \"tif\"];\n",
       "\n",
       "mpl.default_extension = \"png\";var comm_websocket_adapter = function(comm) {\n",
       "    // Create a \"websocket\"-like object which calls the given IPython comm\n",
       "    // object with the appropriate methods. Currently this is a non binary\n",
       "    // socket, so there is still some room for performance tuning.\n",
       "    var ws = {};\n",
       "\n",
       "    ws.close = function() {\n",
       "        comm.close()\n",
       "    };\n",
       "    ws.send = function(m) {\n",
       "        //console.log('sending', m);\n",
       "        comm.send(m);\n",
       "    };\n",
       "    // Register the callback with on_msg.\n",
       "    comm.on_msg(function(msg) {\n",
       "        //console.log('receiving', msg['content']['data'], msg);\n",
       "        // Pass the mpl event to the overridden (by mpl) onmessage function.\n",
       "        ws.onmessage(msg['content']['data'])\n",
       "    });\n",
       "    return ws;\n",
       "}\n",
       "\n",
       "mpl.mpl_figure_comm = function(comm, msg) {\n",
       "    // This is the function which gets called when the mpl process\n",
       "    // starts-up an IPython Comm through the \"matplotlib\" channel.\n",
       "\n",
       "    var id = msg.content.data.id;\n",
       "    // Get hold of the div created by the display call when the Comm\n",
       "    // socket was opened in Python.\n",
       "    var element = $(\"#\" + id);\n",
       "    var ws_proxy = comm_websocket_adapter(comm)\n",
       "\n",
       "    function ondownload(figure, format) {\n",
       "        window.open(figure.imageObj.src);\n",
       "    }\n",
       "\n",
       "    var fig = new mpl.figure(id, ws_proxy,\n",
       "                           ondownload,\n",
       "                           element.get(0));\n",
       "\n",
       "    // Call onopen now - mpl needs it, as it is assuming we've passed it a real\n",
       "    // web socket which is closed, not our websocket->open comm proxy.\n",
       "    ws_proxy.onopen();\n",
       "\n",
       "    fig.parent_element = element.get(0);\n",
       "    fig.cell_info = mpl.find_output_cell(\"<div id='\" + id + \"'></div>\");\n",
       "    if (!fig.cell_info) {\n",
       "        console.error(\"Failed to find cell for figure\", id, fig);\n",
       "        return;\n",
       "    }\n",
       "\n",
       "    var output_index = fig.cell_info[2]\n",
       "    var cell = fig.cell_info[0];\n",
       "\n",
       "};\n",
       "\n",
       "mpl.figure.prototype.handle_close = function(fig, msg) {\n",
       "    var width = fig.canvas.width/mpl.ratio\n",
       "    fig.root.unbind('remove')\n",
       "\n",
       "    // Update the output cell to use the data from the current canvas.\n",
       "    fig.push_to_output();\n",
       "    var dataURL = fig.canvas.toDataURL();\n",
       "    // Re-enable the keyboard manager in IPython - without this line, in FF,\n",
       "    // the notebook keyboard shortcuts fail.\n",
       "    IPython.keyboard_manager.enable()\n",
       "    $(fig.parent_element).html('<img src=\"' + dataURL + '\" width=\"' + width + '\">');\n",
       "    fig.close_ws(fig, msg);\n",
       "}\n",
       "\n",
       "mpl.figure.prototype.close_ws = function(fig, msg){\n",
       "    fig.send_message('closing', msg);\n",
       "    // fig.ws.close()\n",
       "}\n",
       "\n",
       "mpl.figure.prototype.push_to_output = function(remove_interactive) {\n",
       "    // Turn the data on the canvas into data in the output cell.\n",
       "    var width = this.canvas.width/mpl.ratio\n",
       "    var dataURL = this.canvas.toDataURL();\n",
       "    this.cell_info[1]['text/html'] = '<img src=\"' + dataURL + '\" width=\"' + width + '\">';\n",
       "}\n",
       "\n",
       "mpl.figure.prototype.updated_canvas_event = function() {\n",
       "    // Tell IPython that the notebook contents must change.\n",
       "    IPython.notebook.set_dirty(true);\n",
       "    this.send_message(\"ack\", {});\n",
       "    var fig = this;\n",
       "    // Wait a second, then push the new image to the DOM so\n",
       "    // that it is saved nicely (might be nice to debounce this).\n",
       "    setTimeout(function () { fig.push_to_output() }, 1000);\n",
       "}\n",
       "\n",
       "mpl.figure.prototype._init_toolbar = function() {\n",
       "    var fig = this;\n",
       "\n",
       "    var nav_element = $('<div/>');\n",
       "    nav_element.attr('style', 'width: 100%');\n",
       "    this.root.append(nav_element);\n",
       "\n",
       "    // Define a callback function for later on.\n",
       "    function toolbar_event(event) {\n",
       "        return fig.toolbar_button_onclick(event['data']);\n",
       "    }\n",
       "    function toolbar_mouse_event(event) {\n",
       "        return fig.toolbar_button_onmouseover(event['data']);\n",
       "    }\n",
       "\n",
       "    for(var toolbar_ind in mpl.toolbar_items){\n",
       "        var name = mpl.toolbar_items[toolbar_ind][0];\n",
       "        var tooltip = mpl.toolbar_items[toolbar_ind][1];\n",
       "        var image = mpl.toolbar_items[toolbar_ind][2];\n",
       "        var method_name = mpl.toolbar_items[toolbar_ind][3];\n",
       "\n",
       "        if (!name) { continue; };\n",
       "\n",
       "        var button = $('<button class=\"btn btn-default\" href=\"#\" title=\"' + name + '\"><i class=\"fa ' + image + ' fa-lg\"></i></button>');\n",
       "        button.click(method_name, toolbar_event);\n",
       "        button.mouseover(tooltip, toolbar_mouse_event);\n",
       "        nav_element.append(button);\n",
       "    }\n",
       "\n",
       "    // Add the status bar.\n",
       "    var status_bar = $('<span class=\"mpl-message\" style=\"text-align:right; float: right;\"/>');\n",
       "    nav_element.append(status_bar);\n",
       "    this.message = status_bar[0];\n",
       "\n",
       "    // Add the close button to the window.\n",
       "    var buttongrp = $('<div class=\"btn-group inline pull-right\"></div>');\n",
       "    var button = $('<button class=\"btn btn-mini btn-primary\" href=\"#\" title=\"Stop Interaction\"><i class=\"fa fa-power-off icon-remove icon-large\"></i></button>');\n",
       "    button.click(function (evt) { fig.handle_close(fig, {}); } );\n",
       "    button.mouseover('Stop Interaction', toolbar_mouse_event);\n",
       "    buttongrp.append(button);\n",
       "    var titlebar = this.root.find($('.ui-dialog-titlebar'));\n",
       "    titlebar.prepend(buttongrp);\n",
       "}\n",
       "\n",
       "mpl.figure.prototype._root_extra_style = function(el){\n",
       "    var fig = this\n",
       "    el.on(\"remove\", function(){\n",
       "\tfig.close_ws(fig, {});\n",
       "    });\n",
       "}\n",
       "\n",
       "mpl.figure.prototype._canvas_extra_style = function(el){\n",
       "    // this is important to make the div 'focusable\n",
       "    el.attr('tabindex', 0)\n",
       "    // reach out to IPython and tell the keyboard manager to turn it's self\n",
       "    // off when our div gets focus\n",
       "\n",
       "    // location in version 3\n",
       "    if (IPython.notebook.keyboard_manager) {\n",
       "        IPython.notebook.keyboard_manager.register_events(el);\n",
       "    }\n",
       "    else {\n",
       "        // location in version 2\n",
       "        IPython.keyboard_manager.register_events(el);\n",
       "    }\n",
       "\n",
       "}\n",
       "\n",
       "mpl.figure.prototype._key_event_extra = function(event, name) {\n",
       "    var manager = IPython.notebook.keyboard_manager;\n",
       "    if (!manager)\n",
       "        manager = IPython.keyboard_manager;\n",
       "\n",
       "    // Check for shift+enter\n",
       "    if (event.shiftKey && event.which == 13) {\n",
       "        this.canvas_div.blur();\n",
       "        // select the cell after this one\n",
       "        var index = IPython.notebook.find_cell_index(this.cell_info[0]);\n",
       "        IPython.notebook.select(index + 1);\n",
       "    }\n",
       "}\n",
       "\n",
       "mpl.figure.prototype.handle_save = function(fig, msg) {\n",
       "    fig.ondownload(fig, null);\n",
       "}\n",
       "\n",
       "\n",
       "mpl.find_output_cell = function(html_output) {\n",
       "    // Return the cell and output element which can be found *uniquely* in the notebook.\n",
       "    // Note - this is a bit hacky, but it is done because the \"notebook_saving.Notebook\"\n",
       "    // IPython event is triggered only after the cells have been serialised, which for\n",
       "    // our purposes (turning an active figure into a static one), is too late.\n",
       "    var cells = IPython.notebook.get_cells();\n",
       "    var ncells = cells.length;\n",
       "    for (var i=0; i<ncells; i++) {\n",
       "        var cell = cells[i];\n",
       "        if (cell.cell_type === 'code'){\n",
       "            for (var j=0; j<cell.output_area.outputs.length; j++) {\n",
       "                var data = cell.output_area.outputs[j];\n",
       "                if (data.data) {\n",
       "                    // IPython >= 3 moved mimebundle to data attribute of output\n",
       "                    data = data.data;\n",
       "                }\n",
       "                if (data['text/html'] == html_output) {\n",
       "                    return [cell, data, j];\n",
       "                }\n",
       "            }\n",
       "        }\n",
       "    }\n",
       "}\n",
       "\n",
       "// Register the function which deals with the matplotlib target/channel.\n",
       "// The kernel may be null if the page has been refreshed.\n",
       "if (IPython.notebook.kernel != null) {\n",
       "    IPython.notebook.kernel.comm_manager.register_target('matplotlib', mpl.mpl_figure_comm);\n",
       "}\n"
      ],
      "text/plain": [
       "<IPython.core.display.Javascript object>"
      ]
     },
     "metadata": {},
     "output_type": "display_data"
    },
    {
     "data": {
      "text/html": [
       "<img src=\"data:image/png;base64,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\" width=\"971.8181607545905\">"
      ],
      "text/plain": [
       "<IPython.core.display.HTML object>"
      ]
     },
     "metadata": {},
     "output_type": "display_data"
    }
   ],
   "source": [
    "%matplotlib notebook\n",
    "%matplotlib notebook\n",
    "\n",
    "resultAnalysis = HSClusterAnalysis(spectral_data = specmat_sliced,\n",
    "                                   spectral_img = specmat_sliced_mean,\n",
    "                                   class_masks = selected_masks)"
   ]
  },
  {
   "cell_type": "code",
   "execution_count": null,
   "metadata": {
    "ExecuteTime": {
     "end_time": "2020-08-10T07:55:12.899982Z",
     "start_time": "2020-08-10T07:54:01.955513Z"
    }
   },
   "outputs": [],
   "source": [
    "# origrot_classmask = all_classification_masks['comb_kmeans_c5'].astype(np.uint8).copy() + 1\n",
    "# origrot_classmask = helperHandler.rotate_image(mat = origrot_classmask, angle=-mean_angleto90)\n",
    "# # origrot_classmask = np.ma.masked_where(origrot_classmask != 0, origrot_classmask)\n",
    "\n",
    "# # Folium Map\n",
    "# m = folium.Map(location=geom['coordinates'][0][0][::-1],\n",
    "#                position='topright',\n",
    "#                zoom_start=8)\n",
    "# folium.GeoJson(geom, name='geojson').add_to(m)\n",
    "\n",
    "# for k,v in transformed_cord.items():\n",
    "#     folium.Marker([v[1],v[0]], popup=k).add_to(m)\n",
    "\n",
    "\n",
    "# folium.raster_layers.ImageOverlay(image=origrot_classmask,# Longitude # Latitude\n",
    "#                                   bounds=[geom['coordinates'][0][0][::-1],\n",
    "#                                           geom['coordinates'][0][2][::-1]],\n",
    "#                                   origin='upper',\n",
    "#                                   opacity=0.9,\n",
    "#                                   colormap=plt.cm.get_cmap('viridis'),\n",
    "#                                   mercator_project=False,\n",
    "#                                   pixelated=True,\n",
    "#                                   name=None,\n",
    "#                                   overlay=True,\n",
    "#                                   control=True,\n",
    "#                                   show=True).add_to(m)\n",
    "# _=folium.LayerControl().add_to(m)\n",
    "# m.save(savefile9)"
   ]
  },
  {
   "cell_type": "code",
   "execution_count": null,
   "metadata": {
    "ExecuteTime": {
     "end_time": "2020-08-10T10:21:04.124049Z",
     "start_time": "2020-08-10T10:21:04.105402Z"
    },
    "scrolled": false
   },
   "outputs": [],
   "source": [
    "m"
   ]
  },
  {
   "cell_type": "code",
   "execution_count": null,
   "metadata": {},
   "outputs": [],
   "source": []
  },
  {
   "cell_type": "markdown",
   "metadata": {},
   "source": [
    "# Random Testing Space"
   ]
  },
  {
   "cell_type": "markdown",
   "metadata": {
    "heading_collapsed": true
   },
   "source": [
    "## Find Extermity Coefficients"
   ]
  },
  {
   "cell_type": "code",
   "execution_count": null,
   "metadata": {
    "ExecuteTime": {
     "end_time": "2020-08-10T10:07:02.217888Z",
     "start_time": "2020-08-10T10:07:02.209910Z"
    },
    "hidden": true
   },
   "outputs": [],
   "source": [
    "# with open(savefile6, 'rb') as file:\n",
    "#     orig_coord = pickle.load(file)\n",
    "# src = rst.open(imgpaths[0])\n",
    "\n",
    "# trnsf = src.transform\n",
    "# translated_coord = {k:trnsf*tuple(list(v)[::-1]) for k,v in orig_coord.items()}\n",
    "# translated_coord = {k:helperHandler.to_epsg4326(v[0],v[1], src_crs=src.crs.__str__()) for k,v in translated_coord.items()}\n",
    "# print(translated_coord)\n",
    "\n",
    "# with rasterio.open(imgpaths[0]) as dataset:\n",
    "#     mask = dataset.dataset_mask()\n",
    "#     for geom, val in rasterio.features.shapes(mask, transform=dataset.transform):\n",
    "#         geom = rasterio.warp.transform_geom(dataset.crs, 'EPSG:4326', geom, precision=20)\n",
    "\n",
    "        \n",
    "\n",
    "# m = folium.Map(location=geom['coordinates'][0][0][::-1],\n",
    "#                position='topright',\n",
    "#                zoom_start=8)\n",
    "# folium.GeoJson(geom, name='geojson').add_to(m)\n",
    "\n",
    "# for k,v in translated_coord.items():\n",
    "#     folium.Marker([v[1],v[0]], popup=k).add_to(m)\n",
    "\n",
    "\n",
    "# img=tiff.imread(imgpaths[0])\n",
    "# folium.raster_layers.ImageOverlay(image=img,# Longitude # Latitude\n",
    "#                                   bounds=[geom['coordinates'][0][0][::-1],\n",
    "#                                           geom['coordinates'][0][2][::-1]],\n",
    "#                                   origin='upper',\n",
    "#                                   opacity=0.5,\n",
    "#                                   colormap=plt.cm.get_cmap('viridis'),\n",
    "#                                   mercator_project=False,\n",
    "#                                   pixelated=True,\n",
    "#                                   name=None,\n",
    "#                                   overlay=True,\n",
    "#                                   control=True,\n",
    "#                                   show=True).add_to(m)\n",
    "# folium.LayerControl().add_to(m)\n",
    "# helperHandler.imgN_show(img)\n",
    "# with open(savefile7, 'wb') as f:\n",
    "#     pickle.dump(translated_coord,f,pickle.HIGHEST_PROTOCOL)\n",
    "    \n",
    "# with open(savefile8, 'wb') as f:\n",
    "#     pickle.dump(geom,f,pickle.HIGHEST_PROTOCOL)\n",
    "# m"
   ]
  },
  {
   "cell_type": "markdown",
   "metadata": {},
   "source": [
    "## Random"
   ]
  },
  {
   "cell_type": "code",
   "execution_count": 24,
   "metadata": {
    "ExecuteTime": {
     "end_time": "2020-08-10T18:47:53.176850Z",
     "start_time": "2020-08-10T18:47:53.170905Z"
    }
   },
   "outputs": [
    {
     "data": {
      "text/plain": [
       "[19.570198734016746, 73.03912593847224]"
      ]
     },
     "execution_count": 24,
     "metadata": {},
     "output_type": "execute_result"
    }
   ],
   "source": [
    "[73.03912593847224, 19.570198734016746][::-1]"
   ]
  },
  {
   "cell_type": "code",
   "execution_count": 21,
   "metadata": {
    "ExecuteTime": {
     "end_time": "2020-08-10T18:44:24.336132Z",
     "start_time": "2020-08-10T18:44:24.327157Z"
    }
   },
   "outputs": [
    {
     "data": {
      "text/plain": [
       "array(['comb_gmm', 'comb_kmeans', 'combstrt1_gmm', 'combstrt1_kmeans',\n",
       "       'mean_gmm', 'mean_kmeans', 'pca_100_kmeans', 'pca_25_gmm',\n",
       "       'pca_25_kmeans', 'std_gmm', 'std_kmeans'], dtype='<U16')"
      ]
     },
     "execution_count": 21,
     "metadata": {},
     "output_type": "execute_result"
    }
   ],
   "source": [
    "unique_models"
   ]
  },
  {
   "cell_type": "code",
   "execution_count": null,
   "metadata": {},
   "outputs": [],
   "source": []
  },
  {
   "cell_type": "code",
   "execution_count": null,
   "metadata": {},
   "outputs": [],
   "source": []
  }
 ],
 "metadata": {
  "hide_input": false,
  "kernelspec": {
   "display_name": "Python 3",
   "language": "python",
   "name": "python3"
  },
  "language_info": {
   "codemirror_mode": {
    "name": "ipython",
    "version": 3
   },
   "file_extension": ".py",
   "mimetype": "text/x-python",
   "name": "python",
   "nbconvert_exporter": "python",
   "pygments_lexer": "ipython3",
   "version": "3.7.6"
  },
  "toc": {
   "base_numbering": 1,
   "nav_menu": {},
   "number_sections": true,
   "sideBar": true,
   "skip_h1_title": false,
   "title_cell": "Table of Contents",
   "title_sidebar": "Contents",
   "toc_cell": false,
   "toc_position": {},
   "toc_section_display": true,
   "toc_window_display": false
  }
 },
 "nbformat": 4,
 "nbformat_minor": 4
}
